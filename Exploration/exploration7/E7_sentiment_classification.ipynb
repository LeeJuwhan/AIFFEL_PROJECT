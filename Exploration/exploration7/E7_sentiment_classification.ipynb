{
 "cells": [
  {
   "cell_type": "markdown",
   "id": "material-driver",
   "metadata": {},
   "source": [
    "# 영화 감상평 분석\n",
    "- Naver sentiment movie corpus 데이터를 이용하여 사용자들의 영화 감상 평을 분류한다.\n",
    "  - 레이블은 좋다/싫다 두개이고 id와 댓글을 사용한다.\n",
    "- 3가지 모델 (Conv1D, LSTM, FCN)세가지 모델을 사용한다.\n",
    "- pretrained되지 않은 모델의 embedding층에서 뽑은 word2vec과 pretrained된 word2vec을 이용하여 유사도 분석\n",
    "- 사용했을때와 하지 아니하였을때 정확도를 분석한다."
   ]
  },
  {
   "cell_type": "markdown",
   "id": "stretch-movement",
   "metadata": {},
   "source": [
    "# data loading"
   ]
  },
  {
   "cell_type": "code",
   "execution_count": 1,
   "id": "coupled-closure",
   "metadata": {},
   "outputs": [
    {
     "data": {
      "text/html": [
       "<div>\n",
       "<style scoped>\n",
       "    .dataframe tbody tr th:only-of-type {\n",
       "        vertical-align: middle;\n",
       "    }\n",
       "\n",
       "    .dataframe tbody tr th {\n",
       "        vertical-align: top;\n",
       "    }\n",
       "\n",
       "    .dataframe thead th {\n",
       "        text-align: right;\n",
       "    }\n",
       "</style>\n",
       "<table border=\"1\" class=\"dataframe\">\n",
       "  <thead>\n",
       "    <tr style=\"text-align: right;\">\n",
       "      <th></th>\n",
       "      <th>id</th>\n",
       "      <th>document</th>\n",
       "      <th>label</th>\n",
       "    </tr>\n",
       "  </thead>\n",
       "  <tbody>\n",
       "    <tr>\n",
       "      <th>0</th>\n",
       "      <td>9976970</td>\n",
       "      <td>아 더빙.. 진짜 짜증나네요 목소리</td>\n",
       "      <td>0</td>\n",
       "    </tr>\n",
       "    <tr>\n",
       "      <th>1</th>\n",
       "      <td>3819312</td>\n",
       "      <td>흠...포스터보고 초딩영화줄....오버연기조차 가볍지 않구나</td>\n",
       "      <td>1</td>\n",
       "    </tr>\n",
       "    <tr>\n",
       "      <th>2</th>\n",
       "      <td>10265843</td>\n",
       "      <td>너무재밓었다그래서보는것을추천한다</td>\n",
       "      <td>0</td>\n",
       "    </tr>\n",
       "    <tr>\n",
       "      <th>3</th>\n",
       "      <td>9045019</td>\n",
       "      <td>교도소 이야기구먼 ..솔직히 재미는 없다..평점 조정</td>\n",
       "      <td>0</td>\n",
       "    </tr>\n",
       "    <tr>\n",
       "      <th>4</th>\n",
       "      <td>6483659</td>\n",
       "      <td>사이몬페그의 익살스런 연기가 돋보였던 영화!스파이더맨에서 늙어보이기만 했던 커스틴 ...</td>\n",
       "      <td>1</td>\n",
       "    </tr>\n",
       "  </tbody>\n",
       "</table>\n",
       "</div>"
      ],
      "text/plain": [
       "         id                                           document  label\n",
       "0   9976970                                아 더빙.. 진짜 짜증나네요 목소리      0\n",
       "1   3819312                  흠...포스터보고 초딩영화줄....오버연기조차 가볍지 않구나      1\n",
       "2  10265843                                  너무재밓었다그래서보는것을추천한다      0\n",
       "3   9045019                      교도소 이야기구먼 ..솔직히 재미는 없다..평점 조정      0\n",
       "4   6483659  사이몬페그의 익살스런 연기가 돋보였던 영화!스파이더맨에서 늙어보이기만 했던 커스틴 ...      1"
      ]
     },
     "execution_count": 1,
     "metadata": {},
     "output_type": "execute_result"
    }
   ],
   "source": [
    "import pandas as pd\n",
    "import urllib.request\n",
    "%matplotlib inline\n",
    "import matplotlib.pyplot as plt\n",
    "import re\n",
    "from konlpy.tag import Okt\n",
    "from tensorflow import keras\n",
    "from tensorflow.keras.preprocessing.text import Tokenizer\n",
    "import numpy as np\n",
    "from tensorflow.keras.preprocessing.sequence import pad_sequences\n",
    "from collections import Counter\n",
    "from keras.models import Sequential\n",
    "from keras.layers import Dense, Embedding\n",
    "from keras.layers import LSTM\n",
    "\n",
    "\n",
    "# 데이터를 읽어봅시다. \n",
    "train_data = pd.read_table('~/aiffel/sentiment_classification/data/ratings_train.txt')\n",
    "test_data = pd.read_table('~/aiffel/sentiment_classification/data/ratings_test.txt')\n",
    "\n",
    "train_data.head()"
   ]
  },
  {
   "cell_type": "markdown",
   "id": "environmental-ancient",
   "metadata": {},
   "source": [
    "# preprocessing data"
   ]
  },
  {
   "cell_type": "code",
   "execution_count": 2,
   "id": "experienced-geology",
   "metadata": {},
   "outputs": [],
   "source": [
    "from konlpy.tag import Mecab\n",
    "tokenizer = Mecab()\n",
    "stopwords = ['의','가','이','은','들','는','좀','잘','걍','과','도','를','으로','자','에','와','한','하다']\n",
    "\n",
    "def load_data(train_data, test_data, num_words=10000):\n",
    "    train_data.drop_duplicates(subset=['document'], inplace=True)\n",
    "    train_data = train_data.dropna(how = 'any') \n",
    "    test_data.drop_duplicates(subset=['document'], inplace=True)\n",
    "    test_data = test_data.dropna(how = 'any') \n",
    "    \n",
    "    X_train = []\n",
    "    for sentence in train_data['document']:\n",
    "        temp_X = tokenizer.morphs(sentence) # 토큰화\n",
    "        temp_X = [word for word in temp_X if not word in stopwords] # 불용어 제거\n",
    "        X_train.append(temp_X)\n",
    "\n",
    "    X_test = []\n",
    "    for sentence in test_data['document']:\n",
    "        temp_X = tokenizer.morphs(sentence) # 토큰화\n",
    "        temp_X = [word for word in temp_X if not word in stopwords] # 불용어 제거\n",
    "        X_test.append(temp_X)\n",
    "    \n",
    "    words = np.concatenate(X_train).tolist()\n",
    "    counter = Counter(words)\n",
    "    counter = counter.most_common(10000-4)\n",
    "    vocab = ['', '', '', ''] + [key for key, _ in counter]\n",
    "    word_to_index = {word:index for index, word in enumerate(vocab)}\n",
    "        \n",
    "    def wordlist_to_indexlist(wordlist):\n",
    "        return [word_to_index[word] if word in word_to_index else word_to_index[''] for word in wordlist]\n",
    "        \n",
    "    X_train = list(map(wordlist_to_indexlist, X_train))\n",
    "    X_test = list(map(wordlist_to_indexlist, X_test))\n",
    "    # pad, bos, unk를 처리\n",
    "    word_to_index[\"<PAD>\"] = 0\n",
    "    word_to_index[\"<BOS>\"] = 1\n",
    "    word_to_index[\"<UNK>\"] = 2  # unknown\n",
    "    print(word_to_index[\"<PAD>\"])\n",
    "    return X_train, np.array(list(train_data['label'])), X_test, np.array(list(test_data['label'])), word_to_index\n",
    "    \n"
   ]
  },
  {
   "cell_type": "code",
   "execution_count": 3,
   "id": "usual-relevance",
   "metadata": {},
   "outputs": [
    {
     "name": "stdout",
     "output_type": "stream",
     "text": [
      "0\n"
     ]
    }
   ],
   "source": [
    "X_train, y_train, X_test, y_test, word_to_index = load_data(train_data, test_data) "
   ]
  },
  {
   "cell_type": "code",
   "execution_count": 4,
   "id": "stuffed-suffering",
   "metadata": {
    "scrolled": true
   },
   "outputs": [
    {
     "data": {
      "text/plain": [
       "5"
      ]
     },
     "execution_count": 4,
     "metadata": {},
     "output_type": "execute_result"
    }
   ],
   "source": [
    "word_to_index[\"영화\"]"
   ]
  },
  {
   "cell_type": "code",
   "execution_count": 5,
   "id": "assured-april",
   "metadata": {
    "scrolled": true
   },
   "outputs": [
    {
     "name": "stdout",
     "output_type": "stream",
     "text": [
      "<class 'dict'>\n",
      "0\n"
     ]
    }
   ],
   "source": [
    "# word_to_index[\"<PAD\"] = 0\n",
    "# word_to_index[\"<BOS>\"] = 1\n",
    "# word_to_index[\"<UNK>\"] = 2  # unknown\n",
    "print(type(word_to_index))\n",
    "print(word_to_index[\"<PAD>\"])     # '<BOS>' 가 출력됩니다. "
   ]
  },
  {
   "cell_type": "code",
   "execution_count": 6,
   "id": "indonesian-investor",
   "metadata": {
    "scrolled": false
   },
   "outputs": [],
   "source": [
    "index_to_word = {index:word for word, index in word_to_index.items()}"
   ]
  },
  {
   "cell_type": "code",
   "execution_count": 7,
   "id": "thorough-steps",
   "metadata": {},
   "outputs": [],
   "source": [
    "# 문장 1개를 활용할 딕셔너리와 함께 주면, 단어 인덱스 리스트 벡터로 변환해 주는 함수입니다. \n",
    "# 단, 모든 문장은 <BOS>로 시작하는 것으로 합니다. \n",
    "def get_encoded_sentence(sentence, word_to_index):\n",
    "    return [word_to_index['<BOS>']]+[word_to_index[word] if word in word_to_index else word_to_index['<UNK>'] for word in sentence.split()]\n",
    "\n",
    "# 여러 개의 문장 리스트를 한꺼번에 단어 인덱스 리스트 벡터로 encode해 주는 함수입니다. \n",
    "def get_encoded_sentences(sentences, word_to_index):\n",
    "    return [get_encoded_sentence(sentence, word_to_index) for sentence in sentences]\n",
    "\n",
    "# 숫자 벡터로 encode된 문장을 원래대로 decode하는 함수입니다. \n",
    "def get_decoded_sentence(encoded_sentence, index_to_word):\n",
    "    return ' '.join(index_to_word[index] if index in index_to_word else '<UNK>' for index in encoded_sentence[1:])  #[1:]를 통해 <BOS>를 제외\n",
    "\n",
    "# 여러 개의 숫자 벡터로 encode된 문장을 한꺼번에 원래대로 decode하는 함수입니다. \n",
    "def get_decoded_sentences(encoded_sentences, index_to_word):\n",
    "    return [get_decoded_sentence(encoded_sentence, index_to_word) for encoded_sentence in encoded_sentences]"
   ]
  },
  {
   "cell_type": "markdown",
   "id": "monthly-rocket",
   "metadata": {},
   "source": [
    "## auto padding"
   ]
  },
  {
   "cell_type": "code",
   "execution_count": 8,
   "id": "starting-employee",
   "metadata": {
    "scrolled": true
   },
   "outputs": [],
   "source": [
    "X_train = keras.preprocessing.sequence.pad_sequences(X_train,\n",
    "                                                       value=word_to_index['<PAD>'],\n",
    "                                                       padding='pre',\n",
    "                                                       maxlen=100)\n",
    "X_test = keras.preprocessing.sequence.pad_sequences(X_test,\n",
    "                                                       value=word_to_index['<PAD>'],\n",
    "                                                       padding='pre',\n",
    "                                                       maxlen=100)"
   ]
  },
  {
   "cell_type": "markdown",
   "id": "polar-prescription",
   "metadata": {},
   "source": [
    "# modeling\n",
    "- 모델은 우선 LSTM을 사용해 본다."
   ]
  },
  {
   "cell_type": "code",
   "execution_count": 9,
   "id": "ancient-transcription",
   "metadata": {},
   "outputs": [
    {
     "name": "stdout",
     "output_type": "stream",
     "text": [
      "WARNING:tensorflow:Layer lstm will not use cuDNN kernel since it doesn't meet the cuDNN kernel criteria. It will use generic GPU kernel as fallback when running on GPU\n"
     ]
    }
   ],
   "source": [
    "max_features = 10000\n",
    "\n",
    "model = Sequential()\n",
    "model.add(Embedding(max_features, 128))\n",
    "model.add(LSTM(128, dropout=0.2, recurrent_dropout=0.2))\n",
    "model.add(Dense(1, activation='sigmoid'))"
   ]
  },
  {
   "cell_type": "markdown",
   "id": "intimate-glossary",
   "metadata": {},
   "source": [
    "# data split"
   ]
  },
  {
   "cell_type": "code",
   "execution_count": 10,
   "id": "turkish-native",
   "metadata": {},
   "outputs": [
    {
     "name": "stdout",
     "output_type": "stream",
     "text": [
      "(136182, 100)\n",
      "(136182,)\n"
     ]
    }
   ],
   "source": [
    "# validation set 10000건 분리\n",
    "x_val = X_train[:10000]   \n",
    "y_val = y_train[:10000]\n",
    "\n",
    "# validation set을 제외한 나머지 15000건\n",
    "partial_x_train = X_train[10000:]  \n",
    "partial_y_train = y_train[10000:]\n",
    "\n",
    "print(partial_x_train.shape)\n",
    "print(partial_y_train.shape)"
   ]
  },
  {
   "cell_type": "code",
   "execution_count": 11,
   "id": "verified-union",
   "metadata": {},
   "outputs": [
    {
     "name": "stdout",
     "output_type": "stream",
     "text": [
      "Epoch 1/10\n",
      "266/266 [==============================] - 96s 348ms/step - loss: 0.5213 - accuracy: 0.7397 - val_loss: 0.3387 - val_accuracy: 0.8529\n",
      "Epoch 2/10\n",
      "266/266 [==============================] - 92s 346ms/step - loss: 0.3225 - accuracy: 0.8640 - val_loss: 0.3284 - val_accuracy: 0.8553\n",
      "Epoch 3/10\n",
      "266/266 [==============================] - 92s 346ms/step - loss: 0.2926 - accuracy: 0.8773 - val_loss: 0.3223 - val_accuracy: 0.8612\n",
      "Epoch 4/10\n",
      "266/266 [==============================] - 93s 348ms/step - loss: 0.2643 - accuracy: 0.8889 - val_loss: 0.3227 - val_accuracy: 0.8620\n",
      "Epoch 5/10\n",
      "266/266 [==============================] - 93s 349ms/step - loss: 0.2404 - accuracy: 0.9010 - val_loss: 0.3280 - val_accuracy: 0.8632\n",
      "Epoch 6/10\n",
      "266/266 [==============================] - 93s 349ms/step - loss: 0.2214 - accuracy: 0.9109 - val_loss: 0.3414 - val_accuracy: 0.8639\n",
      "Epoch 7/10\n",
      "266/266 [==============================] - 93s 349ms/step - loss: 0.2050 - accuracy: 0.9171 - val_loss: 0.3559 - val_accuracy: 0.8605\n",
      "Epoch 8/10\n",
      "266/266 [==============================] - 93s 350ms/step - loss: 0.1872 - accuracy: 0.9252 - val_loss: 0.3616 - val_accuracy: 0.8579\n",
      "Epoch 9/10\n",
      "266/266 [==============================] - 93s 349ms/step - loss: 0.1769 - accuracy: 0.9293 - val_loss: 0.3933 - val_accuracy: 0.8571\n",
      "Epoch 10/10\n",
      "266/266 [==============================] - 93s 351ms/step - loss: 0.1625 - accuracy: 0.9355 - val_loss: 0.4119 - val_accuracy: 0.8570\n"
     ]
    }
   ],
   "source": [
    "model.compile(optimizer='adam',\n",
    "              loss='binary_crossentropy',\n",
    "              metrics=['accuracy'])\n",
    "              \n",
    "epochs=10  # 몇 epoch를 훈련하면 좋을지 결과를 보면서 바꾸어 봅시다. \n",
    "\n",
    "history = model.fit(partial_x_train,\n",
    "                    partial_y_train,\n",
    "                    epochs=epochs,\n",
    "                    batch_size=512,\n",
    "                    validation_data=(x_val, y_val),\n",
    "                    verbose=1)"
   ]
  },
  {
   "cell_type": "code",
   "execution_count": 12,
   "id": "third-production",
   "metadata": {},
   "outputs": [
    {
     "name": "stdout",
     "output_type": "stream",
     "text": [
      "1537/1537 - 50s - loss: 0.4118 - accuracy: 0.8535\n",
      "[0.4118010401725769, 0.8534898161888123]\n"
     ]
    }
   ],
   "source": [
    "results = model.evaluate(X_test,  y_test, verbose=2)\n",
    "\n",
    "print(results)"
   ]
  },
  {
   "cell_type": "code",
   "execution_count": 13,
   "id": "suited-smart",
   "metadata": {},
   "outputs": [
    {
     "name": "stdout",
     "output_type": "stream",
     "text": [
      "dict_keys(['loss', 'accuracy', 'val_loss', 'val_accuracy'])\n"
     ]
    }
   ],
   "source": [
    "history_dict = history.history\n",
    "print(history_dict.keys()) # epoch에 따른 그래프를 그려볼 수 있는 항목들"
   ]
  },
  {
   "cell_type": "markdown",
   "id": "cloudy-communist",
   "metadata": {},
   "source": [
    "## loss, acc 그림 분석\n",
    "- val loss는 학습중 증가하는 모습을 보이고 train셋은 꾸준히 감소한다.\n",
    "- 그리하여 정확도는 val셋은 정확도가 제자리지만 train set은 증가한다.\n",
    "- train 셋에 대하여 overfitting 되었다고 볼 수 있다."
   ]
  },
  {
   "cell_type": "code",
   "execution_count": 14,
   "id": "constitutional-campaign",
   "metadata": {},
   "outputs": [
    {
     "data": {
      "image/png": "[encoded data removed]",
      "text/plain": [
       "<Figure size 432x288 with 1 Axes>"
      ]
     },
     "metadata": {
      "needs_background": "light"
     },
     "output_type": "display_data"
    }
   ],
   "source": [
    "import matplotlib.pyplot as plt\n",
    "\n",
    "acc = history_dict['accuracy']\n",
    "val_acc = history_dict['val_accuracy']\n",
    "loss = history_dict['loss']\n",
    "val_loss = history_dict['val_loss']\n",
    "\n",
    "epochs = range(1, len(acc) + 1)\n",
    "\n",
    "# \"bo\"는 \"파란색 점\"입니다\n",
    "plt.plot(epochs, loss, 'bo', label='Training loss')\n",
    "# b는 \"파란 실선\"입니다\n",
    "plt.plot(epochs, val_loss, 'b', label='Validation loss')\n",
    "plt.title('Training and validation loss')\n",
    "plt.xlabel('Epochs')\n",
    "plt.ylabel('Loss')\n",
    "plt.legend()\n",
    "\n",
    "plt.show()"
   ]
  },
  {
   "cell_type": "code",
   "execution_count": 15,
   "id": "english-montana",
   "metadata": {},
   "outputs": [
    {
     "data": {
      "image/png": "[encoded data removed]",
      "text/plain": [
       "<Figure size 432x288 with 1 Axes>"
      ]
     },
     "metadata": {
      "needs_background": "light"
     },
     "output_type": "display_data"
    }
   ],
   "source": [
    "plt.clf()   # 그림을 초기화합니다\n",
    "\n",
    "plt.plot(epochs, acc, 'bo', label='Training acc')\n",
    "plt.plot(epochs, val_acc, 'b', label='Validation acc')\n",
    "plt.title('Training and validation accuracy')\n",
    "plt.xlabel('Epochs')\n",
    "plt.ylabel('Accuracy')\n",
    "plt.legend()\n",
    "\n",
    "plt.show()"
   ]
  },
  {
   "cell_type": "markdown",
   "id": "advanced-denver",
   "metadata": {},
   "source": [
    "## my embedding 분석\n",
    "- 영화와 유사한 단어를 검색\n",
    "- 좋지 못한 결과를 보여주는것 같다..."
   ]
  },
  {
   "cell_type": "code",
   "execution_count": 16,
   "id": "abstract-pilot",
   "metadata": {},
   "outputs": [
    {
     "name": "stdout",
     "output_type": "stream",
     "text": [
      "(10000, 128)\n"
     ]
    }
   ],
   "source": [
    "embedding_layer = model.layers[0]\n",
    "weights = embedding_layer.get_weights()[0]\n",
    "print(weights.shape)    # shape: (vocab_size, embedding_dim)"
   ]
  },
  {
   "cell_type": "code",
   "execution_count": 17,
   "id": "irish-sharp",
   "metadata": {},
   "outputs": [],
   "source": [
    "import os\n",
    "vocab_size = 10000\n",
    "word_vector_dim = 128\n",
    "# 학습한 Embedding 파라미터를 파일에 써서 저장합니다. \n",
    "word2vec_file_path = os.getenv('HOME')+'/aiffel/sentiment_classification/data/my_word2vec.txt'\n",
    "f = open(word2vec_file_path, 'w')\n",
    "f.write('{} {}\\n'.format(vocab_size-4, word_vector_dim))  # 몇개의 벡터를 얼마 사이즈로 기재할지 타이틀을 씁니다.\n",
    "\n",
    "# 단어 개수(에서 특수문자 4개는 제외하고)만큼의 워드 벡터를 파일에 기록합니다. \n",
    "vectors = model.get_weights()[0]\n",
    "for i in range(4,vocab_size):\n",
    "    f.write('{} {}\\n'.format(index_to_word[i], ' '.join(map(str, list(vectors[i, :])))))\n",
    "f.close()"
   ]
  },
  {
   "cell_type": "code",
   "execution_count": 18,
   "id": "focal-transaction",
   "metadata": {},
   "outputs": [],
   "source": [
    "import os\n",
    "from gensim.models.keyedvectors import Word2VecKeyedVectors\n",
    "word2vec_file_path = os.getenv('HOME')+'/aiffel/sentiment_classification/data/my_word2vec.txt'\n",
    "word_vectors = Word2VecKeyedVectors.load_word2vec_format(word2vec_file_path, binary=False)"
   ]
  },
  {
   "cell_type": "code",
   "execution_count": 19,
   "id": "gross-sleeping",
   "metadata": {},
   "outputs": [
    {
     "data": {
      "text/plain": [
       "array([ 0.00686562,  0.02387483,  0.01935211, -0.0438589 , -0.00124019,\n",
       "       -0.02649513,  0.03119612,  0.04903575,  0.03781082, -0.00560815,\n",
       "       -0.0468566 ,  0.01908606,  0.00755553, -0.02109006,  0.01473083,\n",
       "       -0.00459838,  0.07839101, -0.00618635,  0.03767179, -0.0059484 ,\n",
       "       -0.00240213,  0.05897483, -0.07935211, -0.09202827, -0.02797191,\n",
       "       -0.05705218,  0.02586167,  0.08663707,  0.05428115,  0.0089411 ,\n",
       "       -0.08223224, -0.00056332, -0.09370975,  0.05798167,  0.04171015,\n",
       "       -0.01851384, -0.00854676, -0.00233983,  0.0254648 , -0.03961697,\n",
       "       -0.00473338,  0.05505699,  0.05641931,  0.04575133, -0.01290398,\n",
       "        0.04397247, -0.04535221,  0.05750536, -0.04765936, -0.01981114,\n",
       "       -0.00281158, -0.03322125, -0.00365506,  0.02788787, -0.01612738,\n",
       "       -0.00917774,  0.02612052,  0.00884153, -0.02828716,  0.01459732,\n",
       "       -0.0075255 ,  0.01032899,  0.00251213,  0.03677225,  0.06156995,\n",
       "        0.01073281,  0.02284284, -0.02172837,  0.01716655, -0.04690538,\n",
       "       -0.01864349, -0.01950654, -0.007812  ,  0.03195536,  0.00487712,\n",
       "       -0.0091664 , -0.09201936, -0.05001405,  0.03225892, -0.00784604,\n",
       "       -0.02690025, -0.01974473,  0.01092093, -0.01160583,  0.02970852,\n",
       "        0.0670232 ,  0.00021696,  0.01729327,  0.01194541,  0.04425921,\n",
       "        0.06262867, -0.05395664,  0.01694546,  0.02906412,  0.04509057,\n",
       "       -0.00670766,  0.04615175,  0.0269671 ,  0.01990418, -0.00815706,\n",
       "        0.00878447, -0.00832906,  0.06237277, -0.03529067,  0.06932006,\n",
       "        0.00935356,  0.05846647, -0.0038004 , -0.08013802, -0.00317696,\n",
       "       -0.05834622,  0.00561228, -0.04329735,  0.00685638, -0.04096953,\n",
       "       -0.03475146,  0.04700836,  0.00930489, -0.0040576 , -0.04767636,\n",
       "       -0.00064864, -0.05170665,  0.01865551,  0.00264911, -0.05983784,\n",
       "        0.08142778,  0.05761317,  0.00921301], dtype=float32)"
      ]
     },
     "execution_count": 19,
     "metadata": {},
     "output_type": "execute_result"
    }
   ],
   "source": [
    "from gensim.models.keyedvectors import Word2VecKeyedVectors\n",
    "\n",
    "word_vectors = Word2VecKeyedVectors.load_word2vec_format(word2vec_file_path, binary=False)\n",
    "vector = word_vectors['영화']\n",
    "vector"
   ]
  },
  {
   "cell_type": "code",
   "execution_count": 20,
   "id": "finished-eleven",
   "metadata": {},
   "outputs": [
    {
     "data": {
      "text/plain": [
       "[('점', 0.6276538372039795),\n",
       " ('ㅎ', 0.5221313238143921),\n",
       " ('...!', 0.5201687812805176),\n",
       " ('~~~!!!', 0.4957848787307739),\n",
       " ('날려', 0.4909258186817169),\n",
       " ('봐야겠다', 0.47906213998794556),\n",
       " ('교과서', 0.47631797194480896),\n",
       " ('남', 0.4734257161617279),\n",
       " ('준다', 0.47178351879119873),\n",
       " ('드립니다', 0.47099101543426514)]"
      ]
     },
     "execution_count": 20,
     "metadata": {},
     "output_type": "execute_result"
    }
   ],
   "source": [
    "word_vectors.similar_by_word(\"영화\")"
   ]
  },
  {
   "cell_type": "markdown",
   "id": "signal-barcelona",
   "metadata": {},
   "source": [
    "# word2vec\n",
    "\n",
    "- https://github.com/Kyubyong/wordvectors 에 있는 미리 학습된 word2vec를 가져와서 사용한다."
   ]
  },
  {
   "cell_type": "code",
   "execution_count": 21,
   "id": "perceived-healthcare",
   "metadata": {
    "scrolled": true
   },
   "outputs": [],
   "source": [
    "import gensim\n",
    "word2vec_path = './data/ko.bin'\n",
    "word2vec = gensim.models.Word2Vec.load(word2vec_path)\n"
   ]
  },
  {
   "cell_type": "markdown",
   "id": "applicable-campbell",
   "metadata": {},
   "source": [
    "- 확실히 my_word2vec과 달리 유사한 단어가 많이 나오는것을 볼 수 있다."
   ]
  },
  {
   "cell_type": "code",
   "execution_count": 22,
   "id": "compound-kruger",
   "metadata": {
    "scrolled": true
   },
   "outputs": [
    {
     "name": "stderr",
     "output_type": "stream",
     "text": [
      "/opt/conda/lib/python3.7/site-packages/ipykernel_launcher.py:1: DeprecationWarning: Call to deprecated `similar_by_word` (Method will be removed in 4.0.0, use self.wv.similar_by_word() instead).\n",
      "  \"\"\"Entry point for launching an IPython kernel.\n"
     ]
    },
    {
     "data": {
      "text/plain": [
       "[('다큐멘터리', 0.7265259027481079),\n",
       " ('영화사', 0.715214192867279),\n",
       " ('드라마', 0.705294132232666),\n",
       " ('뮤지컬', 0.6947016716003418),\n",
       " ('코미디', 0.69093257188797),\n",
       " ('영화인', 0.6702202558517456),\n",
       " ('서부극', 0.6571458578109741),\n",
       " ('스릴러', 0.6533164978027344),\n",
       " ('로맨스', 0.6428799629211426),\n",
       " ('애니메이션', 0.6425570249557495)]"
      ]
     },
     "execution_count": 22,
     "metadata": {},
     "output_type": "execute_result"
    }
   ],
   "source": [
    "word2vec.similar_by_word(\"영화\")"
   ]
  },
  {
   "cell_type": "markdown",
   "id": "binary-chapter",
   "metadata": {},
   "source": [
    "## word2vec embedding layer 추가"
   ]
  },
  {
   "cell_type": "code",
   "execution_count": 23,
   "id": "organic-romania",
   "metadata": {},
   "outputs": [
    {
     "name": "stderr",
     "output_type": "stream",
     "text": [
      "/opt/conda/lib/python3.7/site-packages/ipykernel_launcher.py:8: DeprecationWarning: Call to deprecated `__contains__` (Method will be removed in 4.0.0, use self.wv.__contains__() instead).\n",
      "  \n",
      "/opt/conda/lib/python3.7/site-packages/ipykernel_launcher.py:9: DeprecationWarning: Call to deprecated `__getitem__` (Method will be removed in 4.0.0, use self.wv.__getitem__() instead).\n",
      "  if __name__ == '__main__':\n"
     ]
    }
   ],
   "source": [
    "vocab_size = 10000    # 어휘 사전의 크기입니다(10,000개의 단어)\n",
    "word_vector_dim = 200  # 워드 벡터의 차원수 (변경가능한 하이퍼파라미터)\n",
    "\n",
    "embedding_matrix = np.random.rand(vocab_size, word_vector_dim)\n",
    "\n",
    "# embedding_matrix에 Word2Vec 워드 벡터를 단어 하나씩마다 차례차례 카피한다.\n",
    "for i in range(4,vocab_size):\n",
    "    if index_to_word[i] in word2vec:\n",
    "        embedding_matrix[i] = word2vec[index_to_word[i]]"
   ]
  },
  {
   "cell_type": "markdown",
   "id": "objective-genome",
   "metadata": {},
   "source": [
    "## Conv1D layer model"
   ]
  },
  {
   "cell_type": "code",
   "execution_count": 24,
   "id": "binding-market",
   "metadata": {},
   "outputs": [
    {
     "name": "stdout",
     "output_type": "stream",
     "text": [
      "Model: \"sequential_1\"\n",
      "_________________________________________________________________\n",
      "Layer (type)                 Output Shape              Param #   \n",
      "=================================================================\n",
      "embedding_1 (Embedding)      (None, 100, 200)          2000000   \n",
      "_________________________________________________________________\n",
      "conv1d (Conv1D)              (None, 94, 16)            22416     \n",
      "_________________________________________________________________\n",
      "max_pooling1d (MaxPooling1D) (None, 18, 16)            0         \n",
      "_________________________________________________________________\n",
      "conv1d_1 (Conv1D)            (None, 12, 16)            1808      \n",
      "_________________________________________________________________\n",
      "global_max_pooling1d (Global (None, 16)                0         \n",
      "_________________________________________________________________\n",
      "dense_1 (Dense)              (None, 8)                 136       \n",
      "_________________________________________________________________\n",
      "dense_2 (Dense)              (None, 1)                 9         \n",
      "=================================================================\n",
      "Total params: 2,024,369\n",
      "Trainable params: 2,024,369\n",
      "Non-trainable params: 0\n",
      "_________________________________________________________________\n"
     ]
    }
   ],
   "source": [
    "from tensorflow.keras.initializers import Constant\n",
    "vocab_size = 10000    # 어휘 사전의 크기입니다(10,000개의 단어)\n",
    "word_vector_dim = 200  # 워드 벡터의 차원 수 (변경가능한 하이퍼파라미터)\n",
    "\n",
    "# 모델 구성\n",
    "model = keras.Sequential()\n",
    "model.add(keras.layers.Embedding(vocab_size, \n",
    "                                 word_vector_dim, \n",
    "                                 embeddings_initializer=Constant(embedding_matrix),  # 카피한 임베딩을 여기서 활용\n",
    "                                 input_length=100, \n",
    "                                 trainable=True))   # trainable을 True로 주면 Fine-tuning\n",
    "model.add(keras.layers.Conv1D(16, 7, activation='relu'))\n",
    "model.add(keras.layers.MaxPooling1D(5))\n",
    "model.add(keras.layers.Conv1D(16, 7, activation='relu'))\n",
    "model.add(keras.layers.GlobalMaxPooling1D())\n",
    "model.add(keras.layers.Dense(8, activation='relu'))\n",
    "model.add(keras.layers.Dense(1, activation='sigmoid')) \n",
    "\n",
    "model.summary()"
   ]
  },
  {
   "cell_type": "code",
   "execution_count": 25,
   "id": "recovered-diary",
   "metadata": {},
   "outputs": [
    {
     "name": "stdout",
     "output_type": "stream",
     "text": [
      "Epoch 1/10\n",
      "266/266 [==============================] - 20s 62ms/step - loss: 0.6496 - accuracy: 0.5970 - val_loss: 0.5389 - val_accuracy: 0.7170\n",
      "Epoch 2/10\n",
      "266/266 [==============================] - 13s 50ms/step - loss: 0.5027 - accuracy: 0.7447 - val_loss: 0.4845 - val_accuracy: 0.7526\n",
      "Epoch 3/10\n",
      "266/266 [==============================] - 13s 49ms/step - loss: 0.4438 - accuracy: 0.7805 - val_loss: 0.4696 - val_accuracy: 0.7616\n",
      "Epoch 4/10\n",
      "266/266 [==============================] - 13s 49ms/step - loss: 0.4102 - accuracy: 0.7988 - val_loss: 0.4617 - val_accuracy: 0.7690\n",
      "Epoch 5/10\n",
      "266/266 [==============================] - 13s 49ms/step - loss: 0.3829 - accuracy: 0.8141 - val_loss: 0.4638 - val_accuracy: 0.7673\n",
      "Epoch 6/10\n",
      "266/266 [==============================] - 13s 49ms/step - loss: 0.3582 - accuracy: 0.8278 - val_loss: 0.4740 - val_accuracy: 0.7627\n",
      "Epoch 7/10\n",
      "266/266 [==============================] - 13s 50ms/step - loss: 0.3372 - accuracy: 0.8390 - val_loss: 0.4820 - val_accuracy: 0.7645\n",
      "Epoch 8/10\n",
      "266/266 [==============================] - 13s 49ms/step - loss: 0.3211 - accuracy: 0.8479 - val_loss: 0.5010 - val_accuracy: 0.7649\n",
      "Epoch 9/10\n",
      "266/266 [==============================] - 13s 50ms/step - loss: 0.2988 - accuracy: 0.8596 - val_loss: 0.5290 - val_accuracy: 0.7619\n",
      "Epoch 10/10\n",
      "266/266 [==============================] - 13s 49ms/step - loss: 0.2792 - accuracy: 0.8685 - val_loss: 0.5488 - val_accuracy: 0.7599\n"
     ]
    }
   ],
   "source": [
    "# 학습의 진행\n",
    "model.compile(optimizer='adam',\n",
    "              loss='binary_crossentropy',\n",
    "              metrics=['accuracy'])\n",
    "              \n",
    "epochs=10  # 몇 epoch를 훈련하면 좋을지 결과를 보면서 바꾸어 봅시다. \n",
    "\n",
    "history = model.fit(partial_x_train,\n",
    "                    partial_y_train,\n",
    "                    epochs=epochs,\n",
    "                    batch_size=512,\n",
    "                    validation_data=(x_val, y_val),\n",
    "                    verbose=1)"
   ]
  },
  {
   "cell_type": "code",
   "execution_count": 26,
   "id": "cooperative-board",
   "metadata": {},
   "outputs": [
    {
     "name": "stdout",
     "output_type": "stream",
     "text": [
      "1537/1537 - 5s - loss: 0.5545 - accuracy: 0.7584\n",
      "[0.5545306205749512, 0.7584067583084106]\n"
     ]
    }
   ],
   "source": [
    "# 테스트셋을 통한 모델 평가\n",
    "conv1_results = model.evaluate(X_test,  y_test, verbose=2)\n",
    "\n",
    "print(conv1_results)"
   ]
  },
  {
   "cell_type": "code",
   "execution_count": 27,
   "id": "latter-border",
   "metadata": {},
   "outputs": [
    {
     "name": "stdout",
     "output_type": "stream",
     "text": [
      "dict_keys(['loss', 'accuracy', 'val_loss', 'val_accuracy'])\n"
     ]
    }
   ],
   "source": [
    "history_dict = history.history\n",
    "print(history_dict.keys()) # epoch에 따른 그래프를 그려볼 수 있는 항목들"
   ]
  },
  {
   "cell_type": "code",
   "execution_count": 28,
   "id": "dramatic-diameter",
   "metadata": {},
   "outputs": [
    {
     "data": {
      "image/png": "[encoded data removed]",
      "text/plain": [
       "<Figure size 432x288 with 1 Axes>"
      ]
     },
     "metadata": {
      "needs_background": "light"
     },
     "output_type": "display_data"
    }
   ],
   "source": [
    "acc = history_dict['accuracy']\n",
    "val_acc = history_dict['val_accuracy']\n",
    "loss = history_dict['loss']\n",
    "val_loss = history_dict['val_loss']\n",
    "\n",
    "epochs = range(1, len(acc) + 1)\n",
    "\n",
    "# \"bo\"는 \"파란색 점\"입니다\n",
    "plt.plot(epochs, loss, 'bo', label='Training loss')\n",
    "# b는 \"파란 실선\"입니다\n",
    "plt.plot(epochs, val_loss, 'b', label='Validation loss')\n",
    "plt.title('Training and validation loss')\n",
    "plt.xlabel('Epochs')\n",
    "plt.ylabel('Loss')\n",
    "plt.legend()\n",
    "\n",
    "plt.show()"
   ]
  },
  {
   "cell_type": "code",
   "execution_count": 29,
   "id": "religious-juvenile",
   "metadata": {},
   "outputs": [
    {
     "data": {
      "image/png": "[encoded data removed]",
      "text/plain": [
       "<Figure size 432x288 with 1 Axes>"
      ]
     },
     "metadata": {
      "needs_background": "light"
     },
     "output_type": "display_data"
    }
   ],
   "source": [
    "plt.clf()   # 그림을 초기화합니다\n",
    "\n",
    "plt.plot(epochs, acc, 'bo', label='Training acc')\n",
    "plt.plot(epochs, val_acc, 'b', label='Validation acc')\n",
    "plt.title('Training and validation accuracy')\n",
    "plt.xlabel('Epochs')\n",
    "plt.ylabel('Accuracy')\n",
    "plt.legend()\n",
    "\n",
    "plt.show()"
   ]
  },
  {
   "cell_type": "markdown",
   "id": "empirical-trader",
   "metadata": {},
   "source": [
    "## LSTM model"
   ]
  },
  {
   "cell_type": "code",
   "execution_count": 30,
   "id": "minus-contemporary",
   "metadata": {},
   "outputs": [
    {
     "name": "stdout",
     "output_type": "stream",
     "text": [
      "WARNING:tensorflow:Layer lstm_1 will not use cuDNN kernel since it doesn't meet the cuDNN kernel criteria. It will use generic GPU kernel as fallback when running on GPU\n"
     ]
    }
   ],
   "source": [
    "max_features = 10000\n",
    "\n",
    "model = Sequential()\n",
    "model.add(keras.layers.Embedding(vocab_size, \n",
    "                                 word_vector_dim, \n",
    "                                 embeddings_initializer=Constant(embedding_matrix),  # 카피한 임베딩을 여기서 활용\n",
    "                                 input_length=100, \n",
    "                                 trainable=True))   # trainable을 True로 주면 Fine-tuning\n",
    "model.add(LSTM(128, dropout=0.2, recurrent_dropout=0.2))\n",
    "model.add(Dense(1, activation='sigmoid'))"
   ]
  },
  {
   "cell_type": "code",
   "execution_count": 31,
   "id": "affecting-folks",
   "metadata": {},
   "outputs": [
    {
     "name": "stdout",
     "output_type": "stream",
     "text": [
      "Epoch 1/10\n",
      "266/266 [==============================] - 101s 369ms/step - loss: 0.5382 - accuracy: 0.7152 - val_loss: 0.3600 - val_accuracy: 0.8408\n",
      "Epoch 2/10\n",
      "266/266 [==============================] - 97s 364ms/step - loss: 0.3586 - accuracy: 0.8411 - val_loss: 0.3237 - val_accuracy: 0.8616\n",
      "Epoch 3/10\n",
      "266/266 [==============================] - 95s 358ms/step - loss: 0.3164 - accuracy: 0.8627 - val_loss: 0.3157 - val_accuracy: 0.8654\n",
      "Epoch 4/10\n",
      "266/266 [==============================] - 95s 356ms/step - loss: 0.2884 - accuracy: 0.8783 - val_loss: 0.3119 - val_accuracy: 0.8716\n",
      "Epoch 5/10\n",
      "266/266 [==============================] - 94s 353ms/step - loss: 0.2688 - accuracy: 0.8869 - val_loss: 0.3051 - val_accuracy: 0.8718\n",
      "Epoch 6/10\n",
      "266/266 [==============================] - 94s 353ms/step - loss: 0.2513 - accuracy: 0.8958 - val_loss: 0.3131 - val_accuracy: 0.8727\n",
      "Epoch 7/10\n",
      "266/266 [==============================] - 94s 352ms/step - loss: 0.2364 - accuracy: 0.9018 - val_loss: 0.3076 - val_accuracy: 0.8743\n",
      "Epoch 8/10\n",
      "266/266 [==============================] - 93s 350ms/step - loss: 0.2215 - accuracy: 0.9092 - val_loss: 0.3227 - val_accuracy: 0.8744\n",
      "Epoch 9/10\n",
      "266/266 [==============================] - 93s 350ms/step - loss: 0.2105 - accuracy: 0.9152 - val_loss: 0.3356 - val_accuracy: 0.8721\n",
      "Epoch 10/10\n",
      "266/266 [==============================] - 92s 346ms/step - loss: 0.1972 - accuracy: 0.9208 - val_loss: 0.3442 - val_accuracy: 0.8719\n"
     ]
    }
   ],
   "source": [
    "model.compile(optimizer='adam',\n",
    "              loss='binary_crossentropy',\n",
    "              metrics=['accuracy'])\n",
    "              \n",
    "epochs=10  # 몇 epoch를 훈련하면 좋을지 결과를 보면서 바꾸어 봅시다. \n",
    "\n",
    "history = model.fit(partial_x_train,\n",
    "                    partial_y_train,\n",
    "                    epochs=epochs,\n",
    "                    batch_size=512,\n",
    "                    validation_data=(x_val, y_val),\n",
    "                    verbose=1)"
   ]
  },
  {
   "cell_type": "code",
   "execution_count": 32,
   "id": "divided-asian",
   "metadata": {},
   "outputs": [
    {
     "name": "stdout",
     "output_type": "stream",
     "text": [
      "1537/1537 - 55s - loss: 0.3499 - accuracy: 0.8679\n",
      "[0.3499372899532318, 0.8679333329200745]\n"
     ]
    }
   ],
   "source": [
    "lstm_results = model.evaluate(X_test,  y_test, verbose=2)\n",
    "\n",
    "print(lstm_results)"
   ]
  },
  {
   "cell_type": "code",
   "execution_count": 33,
   "id": "attempted-foundation",
   "metadata": {},
   "outputs": [
    {
     "name": "stdout",
     "output_type": "stream",
     "text": [
      "dict_keys(['loss', 'accuracy', 'val_loss', 'val_accuracy'])\n"
     ]
    }
   ],
   "source": [
    "history_dict = history.history\n",
    "print(history_dict.keys()) # epoch에 따른 그래프를 그려볼 수 있는 항목들"
   ]
  },
  {
   "cell_type": "code",
   "execution_count": 34,
   "id": "wireless-profit",
   "metadata": {},
   "outputs": [
    {
     "data": {
      "image/png": "[encoded data removed]",
      "text/plain": [
       "<Figure size 432x288 with 1 Axes>"
      ]
     },
     "metadata": {
      "needs_background": "light"
     },
     "output_type": "display_data"
    }
   ],
   "source": [
    "acc = history_dict['accuracy']\n",
    "val_acc = history_dict['val_accuracy']\n",
    "loss = history_dict['loss']\n",
    "val_loss = history_dict['val_loss']\n",
    "\n",
    "epochs = range(1, len(acc) + 1)\n",
    "\n",
    "# \"bo\"는 \"파란색 점\"입니다\n",
    "plt.plot(epochs, loss, 'bo', label='Training loss')\n",
    "# b는 \"파란 실선\"입니다\n",
    "plt.plot(epochs, val_loss, 'b', label='Validation loss')\n",
    "plt.title('Training and validation loss')\n",
    "plt.xlabel('Epochs')\n",
    "plt.ylabel('Loss')\n",
    "plt.legend()\n",
    "\n",
    "plt.show()"
   ]
  },
  {
   "cell_type": "code",
   "execution_count": 35,
   "id": "alive-thomson",
   "metadata": {},
   "outputs": [
    {
     "data": {
      "image/png": "[encoded data removed]",
      "text/plain": [
       "<Figure size 432x288 with 1 Axes>"
      ]
     },
     "metadata": {
      "needs_background": "light"
     },
     "output_type": "display_data"
    }
   ],
   "source": [
    "plt.clf()   # 그림을 초기화합니다\n",
    "\n",
    "plt.plot(epochs, acc, 'bo', label='Training acc')\n",
    "plt.plot(epochs, val_acc, 'b', label='Validation acc')\n",
    "plt.title('Training and validation accuracy')\n",
    "plt.xlabel('Epochs')\n",
    "plt.ylabel('Accuracy')\n",
    "plt.legend()\n",
    "\n",
    "plt.show()"
   ]
  },
  {
   "cell_type": "markdown",
   "id": "private-serbia",
   "metadata": {},
   "source": [
    "## FCN layer model"
   ]
  },
  {
   "cell_type": "code",
   "execution_count": 36,
   "id": "extended-laundry",
   "metadata": {},
   "outputs": [
    {
     "name": "stdout",
     "output_type": "stream",
     "text": [
      "Model: \"sequential_3\"\n",
      "_________________________________________________________________\n",
      "Layer (type)                 Output Shape              Param #   \n",
      "=================================================================\n",
      "embedding_3 (Embedding)      (None, None, 200)         2000000   \n",
      "_________________________________________________________________\n",
      "global_max_pooling1d_1 (Glob (None, 200)               0         \n",
      "_________________________________________________________________\n",
      "dense_4 (Dense)              (None, 8)                 1608      \n",
      "_________________________________________________________________\n",
      "dense_5 (Dense)              (None, 1)                 9         \n",
      "=================================================================\n",
      "Total params: 2,001,617\n",
      "Trainable params: 2,001,617\n",
      "Non-trainable params: 0\n",
      "_________________________________________________________________\n"
     ]
    }
   ],
   "source": [
    "vocab_size = 10000    # 어휘 사전의 크기입니다(10,000개의 단어)\n",
    "word_vector_dim = 200  # 워드 벡터의 차원 수 (변경가능한 하이퍼파라미터)\n",
    "\n",
    "model = keras.Sequential()\n",
    "model.add(keras.layers.Embedding(vocab_size, word_vector_dim, input_shape=(None,)))\n",
    "model.add(keras.layers.GlobalMaxPooling1D())\n",
    "model.add(keras.layers.Dense(8, activation='relu'))\n",
    "model.add(keras.layers.Dense(1, activation='sigmoid'))  # 최종 출력은 긍정/부정을 나타내는 1dim 입니다.\n",
    "\n",
    "model.summary()"
   ]
  },
  {
   "cell_type": "code",
   "execution_count": 37,
   "id": "supported-powell",
   "metadata": {},
   "outputs": [
    {
     "name": "stdout",
     "output_type": "stream",
     "text": [
      "Epoch 1/10\n",
      "266/266 [==============================] - 10s 34ms/step - loss: 0.5654 - accuracy: 0.7062 - val_loss: 0.3371 - val_accuracy: 0.8524\n",
      "Epoch 2/10\n",
      "266/266 [==============================] - 9s 34ms/step - loss: 0.3088 - accuracy: 0.8705 - val_loss: 0.3265 - val_accuracy: 0.8584\n",
      "Epoch 3/10\n",
      "266/266 [==============================] - 9s 34ms/step - loss: 0.2599 - accuracy: 0.8948 - val_loss: 0.3341 - val_accuracy: 0.8563\n",
      "Epoch 4/10\n",
      "266/266 [==============================] - 9s 34ms/step - loss: 0.2186 - accuracy: 0.9159 - val_loss: 0.3485 - val_accuracy: 0.8581\n",
      "Epoch 5/10\n",
      "266/266 [==============================] - 9s 34ms/step - loss: 0.1790 - accuracy: 0.9360 - val_loss: 0.3731 - val_accuracy: 0.8559\n",
      "Epoch 6/10\n",
      "266/266 [==============================] - 9s 34ms/step - loss: 0.1354 - accuracy: 0.9557 - val_loss: 0.4010 - val_accuracy: 0.8525\n",
      "Epoch 7/10\n",
      "266/266 [==============================] - 9s 33ms/step - loss: 0.0990 - accuracy: 0.9705 - val_loss: 0.4380 - val_accuracy: 0.8524\n",
      "Epoch 8/10\n",
      "266/266 [==============================] - 9s 34ms/step - loss: 0.0698 - accuracy: 0.9816 - val_loss: 0.4809 - val_accuracy: 0.8463\n",
      "Epoch 9/10\n",
      "266/266 [==============================] - 9s 34ms/step - loss: 0.0484 - accuracy: 0.9883 - val_loss: 0.5245 - val_accuracy: 0.8472\n",
      "Epoch 10/10\n",
      "266/266 [==============================] - 9s 34ms/step - loss: 0.0329 - accuracy: 0.9924 - val_loss: 0.5633 - val_accuracy: 0.8435\n"
     ]
    }
   ],
   "source": [
    "# 학습의 진행\n",
    "model.compile(optimizer='adam',\n",
    "              loss='binary_crossentropy',\n",
    "              metrics=['accuracy'])\n",
    "              \n",
    "epochs=10  # 몇 epoch를 훈련하면 좋을지 결과를 보면서 바꾸어 봅시다. \n",
    "\n",
    "history = model.fit(partial_x_train,\n",
    "                    partial_y_train,\n",
    "                    epochs=epochs,\n",
    "                    batch_size=512,\n",
    "                    validation_data=(x_val, y_val),\n",
    "                    verbose=1)"
   ]
  },
  {
   "cell_type": "code",
   "execution_count": 38,
   "id": "complete-worker",
   "metadata": {},
   "outputs": [
    {
     "name": "stdout",
     "output_type": "stream",
     "text": [
      "1537/1537 - 3s - loss: 0.5788 - accuracy: 0.8410\n",
      "[0.5787955522537231, 0.8409789204597473]\n"
     ]
    }
   ],
   "source": [
    "fcn_results = model.evaluate(X_test,  y_test, verbose=2)\n",
    "\n",
    "print(fcn_results)"
   ]
  },
  {
   "cell_type": "code",
   "execution_count": 39,
   "id": "needed-group",
   "metadata": {},
   "outputs": [
    {
     "name": "stdout",
     "output_type": "stream",
     "text": [
      "dict_keys(['loss', 'accuracy', 'val_loss', 'val_accuracy'])\n"
     ]
    }
   ],
   "source": [
    "history_dict = history.history\n",
    "print(history_dict.keys()) # epoch에 따른 그래프를 그려볼 수 있는 항목들"
   ]
  },
  {
   "cell_type": "code",
   "execution_count": 40,
   "id": "reduced-grade",
   "metadata": {},
   "outputs": [
    {
     "data": {
      "image/png": "[encoded data removed]",
      "text/plain": [
       "<Figure size 432x288 with 1 Axes>"
      ]
     },
     "metadata": {
      "needs_background": "light"
     },
     "output_type": "display_data"
    }
   ],
   "source": [
    "acc = history_dict['accuracy']\n",
    "val_acc = history_dict['val_accuracy']\n",
    "loss = history_dict['loss']\n",
    "val_loss = history_dict['val_loss']\n",
    "\n",
    "epochs = range(1, len(acc) + 1)\n",
    "\n",
    "# \"bo\"는 \"파란색 점\"입니다\n",
    "plt.plot(epochs, loss, 'bo', label='Training loss')\n",
    "# b는 \"파란 실선\"입니다\n",
    "plt.plot(epochs, val_loss, 'b', label='Validation loss')\n",
    "plt.title('Training and validation loss')\n",
    "plt.xlabel('Epochs')\n",
    "plt.ylabel('Loss')\n",
    "plt.legend()\n",
    "\n",
    "plt.show()"
   ]
  },
  {
   "cell_type": "code",
   "execution_count": 41,
   "id": "searching-dimension",
   "metadata": {},
   "outputs": [
    {
     "data": {
      "image/png": "[encoded data removed]",
      "text/plain": [
       "<Figure size 432x288 with 1 Axes>"
      ]
     },
     "metadata": {
      "needs_background": "light"
     },
     "output_type": "display_data"
    }
   ],
   "source": [
    "plt.clf()   # 그림을 초기화합니다\n",
    "\n",
    "plt.plot(epochs, acc, 'bo', label='Training acc')\n",
    "plt.plot(epochs, val_acc, 'b', label='Validation acc')\n",
    "plt.title('Training and validation accuracy')\n",
    "plt.xlabel('Epochs')\n",
    "plt.ylabel('Accuracy')\n",
    "plt.legend()\n",
    "\n",
    "plt.show()"
   ]
  },
  {
   "cell_type": "markdown",
   "id": "breathing-inspection",
   "metadata": {},
   "source": [
    "# 모델 비교\n",
    "- 사용한 모델들의 test_set acc를 비교해 보았다.\n",
    "- 유사한 가운데 pretrained된 word2vec를 사용한 LSTM이 가장 높은 성능을 보였다."
   ]
  },
  {
   "cell_type": "code",
   "execution_count": 46,
   "id": "expressed-secret",
   "metadata": {},
   "outputs": [
    {
     "data": {
      "image/png": "[encoded data removed]",
      "text/plain": [
       "<Figure size 432x288 with 1 Axes>"
      ]
     },
     "metadata": {
      "needs_background": "light"
     },
     "output_type": "display_data"
    }
   ],
   "source": [
    "models = ['my word2vec LSTM', 'Conv1D', 'LSTM', 'FCN']\n",
    "test_acc = [results[1], conv1_results[1], lstm_results[1], fcn_results[1]]\n",
    "x = np.arange(4)\n",
    "plt.bar(x, test_acc)\n",
    "plt.xticks(x, models)\n",
    "\n",
    "for i, v in enumerate(x):\n",
    "    plt.text(v, round(test_acc[i],2), round(test_acc[i],2),                 # 좌표 (x축 = v, y축 = y[0]..y[1], 표시 = y[0]..y[1])\n",
    "             fontsize = 9, \n",
    "             color='blue',\n",
    "             horizontalalignment='center',  # horizontalalignment (left, center, right)\n",
    "             verticalalignment='bottom')    # verticalalignment (top, center, bottom)\n",
    "\n",
    "\n",
    "plt.show()"
   ]
  },
  {
   "cell_type": "code",
   "execution_count": null,
   "id": "noble-toddler",
   "metadata": {},
   "outputs": [],
   "source": []
  }
 ],
 "metadata": {
  "kernelspec": {
   "display_name": "Python 3",
   "language": "python",
   "name": "python3"
  },
  "language_info": {
   "codemirror_mode": {
    "name": "ipython",
    "version": 3
   },
   "file_extension": ".py",
   "mimetype": "text/x-python",
   "name": "python",
   "nbconvert_exporter": "python",
   "pygments_lexer": "ipython3",
   "version": "3.7.9"
  }
 },
 "nbformat": 4,
 "nbformat_minor": 5
}
