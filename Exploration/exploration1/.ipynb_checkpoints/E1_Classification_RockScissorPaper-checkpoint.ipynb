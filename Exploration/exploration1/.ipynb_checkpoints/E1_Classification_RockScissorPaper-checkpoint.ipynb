{
 "cells": [
  {
   "cell_type": "markdown",
   "id": "ac0b96e6",
   "metadata": {},
   "source": [
    "# 가위바위보 분류기  \n",
    "  \n",
    "  \n",
    "  \n",
    "- 직접 촬영한 가위, 바위, 보 사진을 촬영\n",
    "- 모델을 만들어서 학습을 한다.\n",
    "- 학습된 모델을 평가 한다."
   ]
  },
  {
   "cell_type": "markdown",
   "id": "a0a562e7",
   "metadata": {},
   "source": [
    "## 1. Import Module"
   ]
  },
  {
   "cell_type": "code",
   "execution_count": 3,
   "id": "c7fd8ffb",
   "metadata": {},
   "outputs": [
    {
     "name": "stdout",
     "output_type": "stream",
     "text": [
      "2.5.0\n"
     ]
    }
   ],
   "source": [
    "from PIL import Image\n",
    "import os, glob\n",
    "import numpy as np\n",
    "import matplotlib.pyplot as plt\n",
    "import tensorflow as tf\n",
    "from tensorflow import keras\n",
    "import numpy as np\n",
    "\n",
    "print(keras.__version__)"
   ]
  },
  {
   "cell_type": "markdown",
   "id": "ca06d99b",
   "metadata": {},
   "source": [
    "## 2. Data Preprocessing\n",
    "\n",
    "- 가위바위보 사진 각각 300장을 준비한다.\n",
    "- 가위바위보 사진을 28 x 28 x 3으로 reshape한다\n",
    "- 각각의 데이터에 label을 붙임\n",
    "- nomlization을 한다."
   ]
  },
  {
   "cell_type": "markdown",
   "id": "0952cc7f",
   "metadata": {},
   "source": [
    "### 2-1 Image resize"
   ]
  },
  {
   "cell_type": "code",
   "execution_count": 12,
   "id": "42e9f948",
   "metadata": {},
   "outputs": [],
   "source": [
    "def resize_images(img_path):\n",
    "    images=glob.glob(img_path + \"/*.jpg\")  \n",
    "    \n",
    "    print(len(images), \" images to be resized.\")\n",
    "\n",
    "    # 파일마다 모두 28x28 사이즈로 바꾸어 저장합니다.\n",
    "    target_size=(28,28)\n",
    "    \n",
    "    for img in images:\n",
    "        old_img=Image.open(img)\n",
    "        new_img=old_img.resize(target_size,Image.ANTIALIAS)        \n",
    "        new_img.save(img, \"JPEG\")\n",
    "    \n",
    "    print(f\"{len(images)}images resized.\")"
   ]
  },
  {
   "cell_type": "code",
   "execution_count": 13,
   "id": "17317eeb",
   "metadata": {},
   "outputs": [
    {
     "name": "stdout",
     "output_type": "stream",
     "text": [
      "300  images to be resized.\n",
      "300images resized.\n",
      "300  images to be resized.\n",
      "300images resized.\n",
      "300  images to be resized.\n",
      "300images resized.\n",
      "100  images to be resized.\n",
      "100images resized.\n",
      "100  images to be resized.\n",
      "100images resized.\n",
      "100  images to be resized.\n",
      "100images resized.\n"
     ]
    }
   ],
   "source": [
    "rock_image_dir_path = \"./train/rock\"\n",
    "scissor_image_dir_path = \"./train/scissor\"\n",
    "paper_image_dir_path = \"./train/paper\"\n",
    "\n",
    "resize_images(rock_image_dir_path)\n",
    "resize_images(scissor_image_dir_path)\n",
    "resize_images(paper_image_dir_path)\n",
    "\n",
    "rock_image_dir_path = \"./test/rock\"\n",
    "scissor_image_dir_path = \"./test/scissor\"\n",
    "paper_image_dir_path = \"./test/paper\"\n",
    "\n",
    "resize_images(rock_image_dir_path)\n",
    "resize_images(scissor_image_dir_path)\n",
    "resize_images(paper_image_dir_path)"
   ]
  },
  {
   "cell_type": "markdown",
   "id": "b0b925da",
   "metadata": {},
   "source": [
    "### 2-2 Load Image"
   ]
  },
  {
   "cell_type": "code",
   "execution_count": 14,
   "id": "45ecec45",
   "metadata": {},
   "outputs": [
    {
     "ename": "SyntaxError",
     "evalue": "invalid syntax (<ipython-input-14-b3b37d8cf9fc>, line 28)",
     "output_type": "error",
     "traceback": [
      "\u001b[1;36m  File \u001b[1;32m\"<ipython-input-14-b3b37d8cf9fc>\"\u001b[1;36m, line \u001b[1;32m28\u001b[0m\n\u001b[1;33m    print(f\"데이터 X의 이미지 개수는\"{idx}\"입니다.\")\u001b[0m\n\u001b[1;37m                           ^\u001b[0m\n\u001b[1;31mSyntaxError\u001b[0m\u001b[1;31m:\u001b[0m invalid syntax\n"
     ]
    }
   ],
   "source": [
    "def load_data(img_path, number_of_data=900):  # 가위바위보 이미지 개수 총합에 주의하세요.\n",
    "    # 가위 : 0, 바위 : 1, 보 : 2\n",
    "    img_size=28\n",
    "    color=3\n",
    "    #이미지 데이터와 라벨(가위 : 0, 바위 : 1, 보 : 2) 데이터를 담을 행렬(matrix) 영역을 생성합니다.\n",
    "    imgs=np.zeros(number_of_data*img_size*img_size*color,dtype=np.int32).reshape(number_of_data,img_size,img_size,color)\n",
    "    labels=np.zeros(number_of_data,dtype=np.int32)\n",
    "\n",
    "    idx = 0\n",
    "    for file in glob.iglob(img_path+'/scissor/*.jpg'):\n",
    "        img = np.array(Image.open(file),dtype=np.int32)        \n",
    "        imgs[idx,:,:,:]=img    # 데이터 영역에 이미지 행렬을 복사\n",
    "        labels[idx]=0   # 가위 : 0\n",
    "        idx=idx+1\n",
    "    \n",
    "    for file in glob.iglob(img_path+'/rock/*.jpg'):        \n",
    "        img = np.array(Image.open(file),dtype=np.int32)\n",
    "        \n",
    "        imgs[idx,:,:,:]=img    # 데이터 영역에 이미지 행렬을 복사\n",
    "        labels[idx]=1   # 바위 : 1\n",
    "        idx=idx+1      \n",
    "    for file in glob.iglob(img_path+'/paper/*.jpg'):\n",
    "        img = np.array(Image.open(file),dtype=np.int32)        \n",
    "        imgs[idx,:,:,:]=img    # 데이터 영역에 이미지 행렬을 복사\n",
    "        labels[idx]=2   # 보 : 2\n",
    "        idx=idx+1\n",
    "        \n",
    "    print(f\"데이터 X의 이미지 개수는\"{idx}\"입니다.\")\n",
    "    return imgs, labels"
   ]
  },
  {
   "cell_type": "code",
   "execution_count": 11,
   "id": "ac70a374",
   "metadata": {},
   "outputs": [
    {
     "name": "stdout",
     "output_type": "stream",
     "text": [
      "데이터 X의 이미지 개수는 900 입니다.\n",
      "데이터 X의 이미지 개수는 300 입니다.\n",
      "x_train shape: (900, 28, 28, 3)\n",
      "y_train shape: (900,)\n",
      "x_test shape: (900, 28, 28, 3)\n",
      "y_test shape: (900,)\n"
     ]
    }
   ],
   "source": [
    "image_dir_path = \"./train/\"\n",
    "(x_train, y_train)=load_data(image_dir_path)\n",
    "x_train_norm = x_train/255.0   # 입력은 0~1 사이의 값으로 정규화\n",
    "\n",
    "image_dir_path = \"./test/\"\n",
    "(x_test, y_test)=load_data(image_dir_path)\n",
    "x_test_norm = x_train/255.0   # 입력은 0~1 사이의 값으로 정규화\n",
    "\n",
    "print(f\"x_train shape: {format(x_train.shape)}\")\n",
    "print(f\"y_train shape: {format(y_train.shape)}\")\n",
    "\n",
    "print(f\"x_test shape: {format(x_test.shape)}\")\n",
    "print(f\"y_test shape: {format(y_test.shape)}\")"
   ]
  },
  {
   "cell_type": "code",
   "execution_count": 15,
   "id": "83d331cb",
   "metadata": {},
   "outputs": [
    {
     "name": "stdout",
     "output_type": "stream",
     "text": [
      "라벨: 0\n"
     ]
    },
    {
     "data": {
      "image/png": "[encoded data removed]",
      "text/plain": [
       "<Figure size 432x288 with 1 Axes>"
      ]
     },
     "metadata": {
      "needs_background": "light"
     },
     "output_type": "display_data"
    }
   ],
   "source": [
    "plt.imshow(x_train[0])\n",
    "print(f'라벨: {y_train[0]}')"
   ]
  },
  {
   "cell_type": "markdown",
   "id": "01247fa7",
   "metadata": {},
   "source": [
    "## 3.Modeling\n",
    "- keras를 활용하여 간단한 CNN 기반 분류기 모델을 정의\n",
    "- 채널수는 각각 64,64,64개를 가짐\n",
    "- 최종적으로 분류 개수는 3으로 해야하지만 5로 할때 더 높은 성능을 나타냄\n",
    "- epoch수는 10으로 지정\n"
   ]
  },
  {
   "cell_type": "code",
   "execution_count": 16,
   "id": "817464f4",
   "metadata": {},
   "outputs": [
    {
     "name": "stdout",
     "output_type": "stream",
     "text": [
      "Model: \"sequential\"\n",
      "_________________________________________________________________\n",
      "Layer (type)                 Output Shape              Param #   \n",
      "=================================================================\n",
      "conv2d (Conv2D)              (None, 26, 26, 64)        1792      \n",
      "_________________________________________________________________\n",
      "max_pooling2d (MaxPooling2D) (None, 13, 13, 64)        0         \n",
      "_________________________________________________________________\n",
      "conv2d_1 (Conv2D)            (None, 11, 11, 64)        36928     \n",
      "_________________________________________________________________\n",
      "max_pooling2d_1 (MaxPooling2 (None, 5, 5, 64)          0         \n",
      "_________________________________________________________________\n",
      "conv2d_2 (Conv2D)            (None, 3, 3, 64)          36928     \n",
      "_________________________________________________________________\n",
      "max_pooling2d_2 (MaxPooling2 (None, 1, 1, 64)          0         \n",
      "_________________________________________________________________\n",
      "flatten (Flatten)            (None, 64)                0         \n",
      "_________________________________________________________________\n",
      "dense (Dense)                (None, 64)                4160      \n",
      "_________________________________________________________________\n",
      "dense_1 (Dense)              (None, 5)                 325       \n",
      "=================================================================\n",
      "Total params: 80,133\n",
      "Trainable params: 80,133\n",
      "Non-trainable params: 0\n",
      "_________________________________________________________________\n",
      "Epoch 1/10\n",
      "29/29 [==============================] - 1s 12ms/step - loss: 3.8549 - accuracy: 0.4422\n",
      "Epoch 2/10\n",
      "29/29 [==============================] - 0s 12ms/step - loss: 0.5592 - accuracy: 0.8011\n",
      "Epoch 3/10\n",
      "29/29 [==============================] - 0s 12ms/step - loss: 0.3466 - accuracy: 0.8867\n",
      "Epoch 4/10\n",
      "29/29 [==============================] - 0s 12ms/step - loss: 0.3018 - accuracy: 0.8967\n",
      "Epoch 5/10\n",
      "29/29 [==============================] - 0s 12ms/step - loss: 0.1543 - accuracy: 0.9578\n",
      "Epoch 6/10\n",
      "29/29 [==============================] - 0s 12ms/step - loss: 0.1187 - accuracy: 0.9644\n",
      "Epoch 7/10\n",
      "29/29 [==============================] - 0s 12ms/step - loss: 0.1497 - accuracy: 0.9433\n",
      "Epoch 8/10\n",
      "29/29 [==============================] - 0s 12ms/step - loss: 0.1192 - accuracy: 0.9544\n",
      "Epoch 9/10\n",
      "29/29 [==============================] - 0s 12ms/step - loss: 0.0508 - accuracy: 0.9844\n",
      "Epoch 10/10\n",
      "29/29 [==============================] - 0s 12ms/step - loss: 0.0436 - accuracy: 0.9911\n"
     ]
    },
    {
     "data": {
      "text/plain": [
       "<tensorflow.python.keras.callbacks.History at 0x12811e7a7f0>"
      ]
     },
     "execution_count": 16,
     "metadata": {},
     "output_type": "execute_result"
    }
   ],
   "source": [
    "n_channel_1=64\n",
    "n_channel_2=64\n",
    "n_channel_3=64\n",
    "n_dense=64\n",
    "n_train_epoch=10\n",
    "\n",
    "model=keras.models.Sequential()\n",
    "model.add(keras.layers.Conv2D(n_channel_1, (3,3), activation='relu', input_shape=(28,28,3)))\n",
    "model.add(keras.layers.MaxPool2D(2,2))\n",
    "model.add(keras.layers.Conv2D(n_channel_2, (3,3), activation='relu'))\n",
    "model.add(keras.layers.MaxPooling2D((2,2)))\n",
    "model.add(keras.layers.Conv2D(n_channel_3, (3,3), activation='relu'))\n",
    "model.add(keras.layers.MaxPooling2D((2,2)))\n",
    "model.add(keras.layers.Flatten())\n",
    "model.add(keras.layers.Dense(n_dense, activation='relu'))\n",
    "model.add(keras.layers.Dense(5, activation='softmax'))\n",
    "\n",
    "model.summary()"
   ]
  },
  {
   "cell_type": "markdown",
   "id": "afa32357",
   "metadata": {},
   "source": [
    "## 4. Training\n",
    "- optimizer : adam \n",
    "- loss function : sparse_categorical_crossentropy "
   ]
  },
  {
   "cell_type": "code",
   "execution_count": 17,
   "id": "a2632ee6",
   "metadata": {},
   "outputs": [
    {
     "name": "stdout",
     "output_type": "stream",
     "text": [
      "Epoch 1/10\n",
      "29/29 [==============================] - 1s 12ms/step - loss: 0.8326 - accuracy: 0.8244\n",
      "Epoch 2/10\n",
      "29/29 [==============================] - 0s 12ms/step - loss: 0.0881 - accuracy: 0.9756\n",
      "Epoch 3/10\n",
      "29/29 [==============================] - 0s 12ms/step - loss: 0.0510 - accuracy: 0.9900\n",
      "Epoch 4/10\n",
      "29/29 [==============================] - 0s 12ms/step - loss: 0.0354 - accuracy: 0.9911\n",
      "Epoch 5/10\n",
      "29/29 [==============================] - 0s 12ms/step - loss: 0.0282 - accuracy: 0.9922\n",
      "Epoch 6/10\n",
      "29/29 [==============================] - 0s 12ms/step - loss: 0.0520 - accuracy: 0.9822\n",
      "Epoch 7/10\n",
      "29/29 [==============================] - 0s 12ms/step - loss: 0.0836 - accuracy: 0.9711\n",
      "Epoch 8/10\n",
      "29/29 [==============================] - 0s 12ms/step - loss: 0.0315 - accuracy: 0.9922\n",
      "Epoch 9/10\n",
      "29/29 [==============================] - 0s 12ms/step - loss: 0.0332 - accuracy: 0.9878\n",
      "Epoch 10/10\n",
      "29/29 [==============================] - 0s 12ms/step - loss: 0.0248 - accuracy: 0.9956\n"
     ]
    },
    {
     "data": {
      "text/plain": [
       "<tensorflow.python.keras.callbacks.History at 0x12819033e48>"
      ]
     },
     "execution_count": 17,
     "metadata": {},
     "output_type": "execute_result"
    }
   ],
   "source": [
    "model.compile(optimizer='adam',\n",
    "             loss='sparse_categorical_crossentropy',\n",
    "             metrics=['accuracy'])\n",
    "\n",
    "# 모델 훈련\n",
    "model.fit(x_train, y_train,epochs=n_train_epoch)"
   ]
  },
  {
   "cell_type": "markdown",
   "id": "3c99c0a0",
   "metadata": {},
   "source": [
    "## 5. Evaluation\n",
    "\n",
    "- 약 81%의 정확도를 나타낸다.\n",
    "- 내부 구조나 다양한 최적화 기법을 사용하면 더 정확해 질것으로 생각된다."
   ]
  },
  {
   "cell_type": "code",
   "execution_count": 19,
   "id": "101e5ba0",
   "metadata": {},
   "outputs": [
    {
     "name": "stdout",
     "output_type": "stream",
     "text": [
      "29/29 - 0s - loss: 1.8518 - accuracy: 0.8189\n"
     ]
    }
   ],
   "source": [
    "test_loss, test_accuracy = model.evaluate(x_test, y_test, verbose=2)"
   ]
  },
  {
   "cell_type": "code",
   "execution_count": null,
   "id": "5f745f58",
   "metadata": {},
   "outputs": [],
   "source": []
  }
 ],
 "metadata": {
  "kernelspec": {
   "display_name": "Python 3",
   "language": "python",
   "name": "python3"
  },
  "language_info": {
   "codemirror_mode": {
    "name": "ipython",
    "version": 3
   },
   "file_extension": ".py",
   "mimetype": "text/x-python",
   "name": "python",
   "nbconvert_exporter": "python",
   "pygments_lexer": "ipython3",
   "version": "3.6.13"
  }
 },
 "nbformat": 4,
 "nbformat_minor": 5
}
