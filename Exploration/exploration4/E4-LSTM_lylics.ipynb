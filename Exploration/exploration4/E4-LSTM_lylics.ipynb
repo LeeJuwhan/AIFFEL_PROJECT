{
 "cells": [
  {
   "cell_type": "markdown",
   "id": "aggregate-volume",
   "metadata": {},
   "source": [
    "# LSTM을 통한 노래 작문\n",
    "- 노래 가사 데이터들을 로드한다.\n",
    "- 노래 가사 데이터의 전처리를 한다.\n",
    "  - 가사의 단어가 15개를 넘는 것은 제외한다.\n",
    "  - 한줄의 단어가 0인것은 pass한다.\n",
    "  - 특수문자들은 공백으로 변환한다.\n",
    "  - 대문자는 모두 소문자로 변환한다.\n",
    "- 데이터를 train set과 val set으로 분리한다.\n",
    "  - 분리한 데이터들은 tensorflow dataset 형태로 변환\n",
    "- batch size 256 hidden 2048 LSTM 두개의 layer을 사용\n",
    "  - 오버피팅의 방지를 위해 dropout(0.3)을 사용\n",
    "- evaluation을 통해 val set을 평가한다."
   ]
  },
  {
   "cell_type": "code",
   "execution_count": 38,
   "id": "tropical-warning",
   "metadata": {},
   "outputs": [
    {
     "name": "stdout",
     "output_type": "stream",
     "text": [
      "데이터 크기: 187088\n",
      "Examples:\n",
      " ['At first I was afraid', 'I was petrified', 'I kept thinking I could never live without you']\n"
     ]
    }
   ],
   "source": [
    "import os, re \n",
    "import numpy as np\n",
    "import tensorflow as tf\n",
    "import glob\n",
    "# 파일을 읽기모드로 열고\n",
    "# 라인 단위로 끊어서 list 형태로 읽어옵니다.\n",
    "# file_path = os.getenv('HOME') + '/aiffel/lyricist/data/shakespeare.txt'\n",
    "# with open(file_path, \"r\") as f:\n",
    "#     raw_corpus = f.read().splitlines()\n",
    "\n",
    "txt_file_path = os.getenv('HOME')+'/aiffel/lyricist/data/lyrics/*'\n",
    "\n",
    "txt_list = glob.glob(txt_file_path)\n",
    "\n",
    "raw_corpus = []\n",
    "for txt_file in txt_list:\n",
    "    with open(txt_file, \"r\") as f:\n",
    "        raw = f.read().splitlines()\n",
    "        raw_corpus.extend(raw)\n",
    "print(\"데이터 크기:\", len(raw_corpus))\n",
    "print(\"Examples:\\n\", raw_corpus[:3])\n",
    "\n"
   ]
  },
  {
   "cell_type": "markdown",
   "id": "later-orange",
   "metadata": {},
   "source": [
    "## 데이터 전처리\n",
    "- 가사의 단어가 15개를 넘는 것은 제외한다.\n",
    "  - 한줄의 단어가 0인것은 pass한다.\n",
    "  - 특수문자들은 공백으로 변환한다.\n",
    "  - 대문자는 모두 소문자로 변환한다."
   ]
  },
  {
   "cell_type": "code",
   "execution_count": 2,
   "id": "confirmed-lecture",
   "metadata": {},
   "outputs": [
    {
     "name": "stdout",
     "output_type": "stream",
     "text": [
      "['<start>', 'at', 'first', 'i', 'was', 'afraid', '<end>']\n"
     ]
    }
   ],
   "source": [
    "def preprocess_sentence(raw_corpus):\n",
    "    sentence = raw_corpus.lower().strip() # 1        \n",
    "    sentence = re.sub(r\"([?.!,¿])\", r\" \\1 \", sentence) # 2\n",
    "    sentence = re.sub(r'[\" \"]+', \" \", sentence) # 3\n",
    "    sentence = re.sub(r\"[^a-zA-Z?.!,¿]+\", \" \", sentence) # 4 알파벳이 아닌 모든 문자\n",
    "    sentence = sentence.strip() # 5\n",
    "    sentence = '<start> ' + sentence + ' <end>' # 6    \n",
    "    return sentence\n",
    "\n",
    "# 여기에 정제된 문장을 모을겁니다\n",
    "corpus = []\n",
    "\n",
    "for sentence in raw_corpus:\n",
    "    # 우리가 원하지 않는 문장은 건너뜁니다\n",
    "    if len(sentence) == 0: continue\n",
    "#     if sentence[-1] == \":\": continue\n",
    "    \n",
    "    # 정제를 하고 담아주세요\n",
    "    preprocessed_sentence = preprocess_sentence(sentence)\n",
    "    if len(preprocessed_sentence.split(\" \")) > 15 : continue\n",
    "    corpus.append(preprocessed_sentence)\n",
    "        \n",
    "# 정제된 결과를 10개만 확인해보죠\n",
    "corpus[:10]\n",
    "print(corpus[0].split(\" \"))"
   ]
  },
  {
   "cell_type": "markdown",
   "id": "stable-inquiry",
   "metadata": {},
   "source": [
    "## 데이터 토큰화\n",
    "- 문장의 시작에 \\<start\\> 를 넣고 끝에 \\<end\\>를 넣는다."
   ]
  },
  {
   "cell_type": "code",
   "execution_count": 3,
   "id": "promising-serial",
   "metadata": {},
   "outputs": [
    {
     "name": "stdout",
     "output_type": "stream",
     "text": [
      "[[   2   70  247 ...    0    0    0]\n",
      " [   2    4   53 ...    0    0    0]\n",
      " [   2    4 1066 ...    0    0    0]\n",
      " ...\n",
      " [   2    8    4 ...    0    0    0]\n",
      " [   2   44   17 ...    0    0    0]\n",
      " [   2    6  174 ...    0    0    0]] <keras_preprocessing.text.Tokenizer object at 0x7fba7eb2f590>\n"
     ]
    }
   ],
   "source": [
    "# 토큰화 할 때 텐서플로우의 Tokenizer와 pad_sequences를 사용합니다\n",
    "# 더 잘 알기 위해 아래 문서들을 참고하면 좋습니다\n",
    "# https://www.tensorflow.org/api_docs/python/tf/keras/preprocessing/text/Tokenizer\n",
    "# https://www.tensorflow.org/api_docs/python/tf/keras/preprocessing/sequence/pad_sequences\n",
    "def tokenize(corpus):\n",
    "    # 7000단어를 기억할 수 있는 tokenizer를 만들겁니다\n",
    "    # 우리는 이미 문장을 정제했으니 filters가 필요없어요\n",
    "    # 7000단어에 포함되지 못한 단어는 '<unk>'로 바꿀거에요\n",
    "    tokenizer = tf.keras.preprocessing.text.Tokenizer(\n",
    "        num_words=12000, \n",
    "        filters=' ',\n",
    "        oov_token=\"<unk>\"\n",
    "    )\n",
    "    # corpus를 이용해 tokenizer 내부의 단어장을 완성합니다\n",
    "    tokenizer.fit_on_texts(corpus)\n",
    "    # 준비한 tokenizer를 이용해 corpus를 Tensor로 변환합니다\n",
    "    tensor = tokenizer.texts_to_sequences(corpus)   \n",
    "    # 입력 데이터의 시퀀스 길이를 일정하게 맞춰줍니다\n",
    "    # 만약 시퀀스가 짧다면 문장 뒤에 패딩을 붙여 길이를 맞춰줍니다.\n",
    "    # 문장 앞에 패딩을 붙여 길이를 맞추고 싶다면 padding='pre'를 사용합니다\n",
    "    tensor = tf.keras.preprocessing.sequence.pad_sequences(tensor, padding='post')  \n",
    "    \n",
    "    print(tensor,tokenizer)\n",
    "    return tensor, tokenizer\n",
    "\n",
    "tensor, tokenizer = tokenize(corpus)"
   ]
  },
  {
   "cell_type": "code",
   "execution_count": 4,
   "id": "signal-niagara",
   "metadata": {},
   "outputs": [
    {
     "name": "stdout",
     "output_type": "stream",
     "text": [
      "[[   2   70  247    4   53  708    3    0    0    0]\n",
      " [   2    4   53 6269    3    0    0    0    0    0]\n",
      " [   2    4 1066  525    4  104   80  192  257    7]]\n"
     ]
    }
   ],
   "source": [
    "print(tensor[:3, :10])"
   ]
  },
  {
   "cell_type": "code",
   "execution_count": 5,
   "id": "parliamentary-energy",
   "metadata": {},
   "outputs": [
    {
     "name": "stdout",
     "output_type": "stream",
     "text": [
      "1 : <unk>\n",
      "2 : <start>\n",
      "3 : <end>\n",
      "4 : i\n",
      "5 : ,\n",
      "6 : the\n",
      "7 : you\n",
      "8 : and\n",
      "9 : a\n",
      "10 : to\n"
     ]
    }
   ],
   "source": [
    "for idx in tokenizer.index_word:\n",
    "    print(idx, \":\", tokenizer.index_word[idx])\n",
    "\n",
    "    if idx >= 10: break"
   ]
  },
  {
   "cell_type": "code",
   "execution_count": 6,
   "id": "unauthorized-potato",
   "metadata": {},
   "outputs": [
    {
     "name": "stdout",
     "output_type": "stream",
     "text": [
      "[  2  70 247   4  53 708   3   0   0   0   0   0   0   0]\n",
      "[ 70 247   4  53 708   3   0   0   0   0   0   0   0   0]\n"
     ]
    }
   ],
   "source": [
    "# tensor에서 마지막 토큰을 잘라내서 소스 문장을 생성합니다\n",
    "# 마지막 토큰은 <end>가 아니라 <pad>일 가능성이 높습니다.\n",
    "src_input = tensor[:, :-1]  \n",
    "# tensor에서 <start>를 잘라내서 타겟 문장을 생성합니다.\n",
    "tgt_input = tensor[:, 1:]    \n",
    "\n",
    "print(src_input[0])\n",
    "print(tgt_input[0])"
   ]
  },
  {
   "cell_type": "markdown",
   "id": "major-chosen",
   "metadata": {},
   "source": [
    "## 데이터 tf.data.Dataset 형태로 변환"
   ]
  },
  {
   "cell_type": "code",
   "execution_count": 7,
   "id": "private-scanner",
   "metadata": {},
   "outputs": [
    {
     "name": "stdout",
     "output_type": "stream",
     "text": [
      "610\n"
     ]
    },
    {
     "data": {
      "text/plain": [
       "<BatchDataset shapes: ((256, 14), (256, 14)), types: (tf.int32, tf.int32)>"
      ]
     },
     "execution_count": 7,
     "metadata": {},
     "output_type": "execute_result"
    }
   ],
   "source": [
    "BUFFER_SIZE = len(src_input)\n",
    "BATCH_SIZE = 256\n",
    "steps_per_epoch = len(src_input) // BATCH_SIZE\n",
    "print(steps_per_epoch)\n",
    " # tokenizer가 구축한 단어사전 내 7000개와, 여기 포함되지 않은 0:<pad>를 포함하여 7001개\n",
    "VOCAB_SIZE = tokenizer.num_words + 1   \n",
    "\n",
    "# 준비한 데이터 소스로부터 데이터셋을 만듭니다\n",
    "# 데이터셋에 대해서는 아래 문서를 참고하세요\n",
    "# 자세히 알아둘수록 도움이 많이 되는 중요한 문서입니다\n",
    "# https://www.tensorflow.org/api_docs/python/tf/data/Dataset\n",
    "dataset = tf.data.Dataset.from_tensor_slices((src_input, tgt_input))\n",
    "dataset = dataset.shuffle(BUFFER_SIZE)\n",
    "dataset = dataset.batch(BATCH_SIZE, drop_remainder=True)\n",
    "dataset"
   ]
  },
  {
   "cell_type": "markdown",
   "id": "meaning-repeat",
   "metadata": {},
   "source": [
    "## 모델 설계\n",
    "- LSTM 2개 embedding size 256 hidden size 2048 사용"
   ]
  },
  {
   "cell_type": "code",
   "execution_count": 31,
   "id": "unlimited-vertical",
   "metadata": {},
   "outputs": [],
   "source": [
    "class TextGenerator(tf.keras.Model):\n",
    "    def __init__(self, vocab_size, embedding_size, hidden_size):\n",
    "        super().__init__()\n",
    "        \n",
    "        self.embedding = tf.keras.layers.Embedding(vocab_size, embedding_size)\n",
    "        self.rnn_1 = tf.keras.layers.LSTM(hidden_size, return_sequences=True)\n",
    "        self.dropout_1 = tf.keras.layers.Dropout(0.2)\n",
    "        self.rnn_2 = tf.keras.layers.LSTM(hidden_size, return_sequences=True)\n",
    "        self.dropout_2 = tf.keras.layers.Dropout(0.2)\n",
    "        self.linear = tf.keras.layers.Dense(vocab_size)\n",
    "        \n",
    "    def call(self, x):\n",
    "        out = self.embedding(x)\n",
    "        out = self.rnn_1(out)\n",
    "        out = self.dropout_1(out)\n",
    "        out = self.rnn_2(out)\n",
    "        out = self.dropout_2(out)\n",
    "        out = self.linear(out)\n",
    "        \n",
    "        return out\n",
    "    \n",
    "embedding_size = 256\n",
    "hidden_size = 2048\n",
    "model = TextGenerator(tokenizer.num_words + 1, embedding_size , hidden_size)"
   ]
  },
  {
   "cell_type": "markdown",
   "id": "partial-stranger",
   "metadata": {},
   "source": [
    "## 데이터셋 분리\n",
    "- 0.2로 train set과 val set을 분리한다.\n",
    "- 각각 분리된 set은 datset 모듈로 변환한다."
   ]
  },
  {
   "cell_type": "code",
   "execution_count": 32,
   "id": "assured-characterization",
   "metadata": {},
   "outputs": [
    {
     "name": "stdout",
     "output_type": "stream",
     "text": [
      "Source Train: (124981, 14)\n",
      "Target Train: (124981, 14)\n",
      "Source Val: (31246, 14)\n",
      "Target Val: (31246, 14)\n"
     ]
    },
    {
     "data": {
      "text/plain": [
       "<tf.Tensor: shape=(256, 14, 12001), dtype=float32, numpy=\n",
       "array([[[-1.2915002e-04, -8.4298663e-05, -2.0246314e-04, ...,\n",
       "         -4.0677792e-04,  1.0153977e-04,  1.3882022e-04],\n",
       "        [-2.8311595e-04, -5.1688799e-05, -2.2855631e-04, ...,\n",
       "         -3.5720121e-04,  1.5296042e-04,  2.5822458e-04],\n",
       "        [-3.0378700e-04, -3.4179023e-04, -4.6908020e-04, ...,\n",
       "         -2.9467858e-04,  1.2266744e-04,  5.0592062e-04],\n",
       "        ...,\n",
       "        [-7.3529821e-04,  5.5791042e-04, -1.3486024e-03, ...,\n",
       "          7.0085510e-04, -4.2028888e-04,  4.9458613e-04],\n",
       "        [-9.8707271e-04,  4.8461687e-04, -1.0429504e-03, ...,\n",
       "          8.1573508e-04, -5.2488403e-04,  5.3699507e-04],\n",
       "        [-1.3122705e-03,  4.3361785e-04, -7.3292898e-04, ...,\n",
       "          9.8407397e-04, -6.9479493e-04,  6.4971799e-04]],\n",
       "\n",
       "       [[-1.2915002e-04, -8.4298663e-05, -2.0246314e-04, ...,\n",
       "         -4.0677792e-04,  1.0153977e-04,  1.3882022e-04],\n",
       "        [-1.9998186e-04, -5.8593228e-05, -3.5748511e-04, ...,\n",
       "         -3.6929629e-04,  1.5145310e-04,  1.9531716e-04],\n",
       "        [-3.2458504e-04, -5.6763133e-04, -3.4205595e-04, ...,\n",
       "         -6.8669743e-04,  1.5851903e-04,  2.0041231e-04],\n",
       "        ...,\n",
       "        [-8.0034637e-04, -2.4723381e-04, -5.0128571e-04, ...,\n",
       "          1.4162227e-03,  3.8208382e-04,  6.7438575e-04],\n",
       "        [-1.2394105e-03, -1.0929351e-04, -3.7582900e-04, ...,\n",
       "          1.5946230e-03,  1.5893830e-04,  7.3356647e-04],\n",
       "        [-1.6474453e-03,  1.3437399e-05, -2.6829870e-04, ...,\n",
       "          1.7035489e-03, -4.4750810e-05,  8.0608128e-04]],\n",
       "\n",
       "       [[-1.2915002e-04, -8.4298663e-05, -2.0246314e-04, ...,\n",
       "         -4.0677792e-04,  1.0153977e-04,  1.3882022e-04],\n",
       "        [-4.7289221e-05, -4.1672098e-04, -4.4625069e-04, ...,\n",
       "         -2.3965063e-04,  4.6827551e-04,  9.3944391e-06],\n",
       "        [ 2.7331852e-04, -5.7971396e-04, -5.9368368e-04, ...,\n",
       "         -9.4552051e-05,  4.6437859e-04, -5.9616374e-05],\n",
       "        ...,\n",
       "        [-1.5711980e-03, -4.3486794e-05, -5.2164966e-04, ...,\n",
       "          1.5670531e-03,  3.5892811e-04,  6.0503994e-04],\n",
       "        [-1.9326541e-03, -7.5469088e-06, -3.9967929e-04, ...,\n",
       "          1.6782648e-03,  1.7556270e-04,  7.6963165e-04],\n",
       "        [-2.2453298e-03,  1.3378663e-05, -2.8439306e-04, ...,\n",
       "          1.7345765e-03,  1.1093269e-05,  9.2052814e-04]],\n",
       "\n",
       "       ...,\n",
       "\n",
       "       [[-1.2915002e-04, -8.4298663e-05, -2.0246314e-04, ...,\n",
       "         -4.0677792e-04,  1.0153977e-04,  1.3882022e-04],\n",
       "        [-3.4574524e-04, -1.8456530e-04, -1.7091109e-04, ...,\n",
       "         -5.1690172e-04,  7.7293560e-05,  2.5109857e-04],\n",
       "        [-4.9234292e-04, -1.9179549e-04, -3.9251486e-04, ...,\n",
       "         -6.5664080e-04,  2.5563230e-04,  3.4844709e-04],\n",
       "        ...,\n",
       "        [-2.0734637e-04, -9.5389201e-04, -9.4185886e-04, ...,\n",
       "          9.1492885e-04, -1.0241128e-03,  3.5500308e-04],\n",
       "        [-7.0108258e-04, -7.1176287e-04, -7.8993925e-04, ...,\n",
       "          1.1996992e-03, -1.1538977e-03,  4.7066613e-04],\n",
       "        [-1.1731477e-03, -5.0129049e-04, -6.4132106e-04, ...,\n",
       "          1.4007192e-03, -1.2394179e-03,  5.9608667e-04]],\n",
       "\n",
       "       [[-1.2915002e-04, -8.4298663e-05, -2.0246314e-04, ...,\n",
       "         -4.0677792e-04,  1.0153977e-04,  1.3882022e-04],\n",
       "        [-2.4688937e-04, -4.0321378e-04, -3.1681336e-04, ...,\n",
       "         -6.0066837e-04,  4.2192134e-04,  1.6652855e-04],\n",
       "        [-2.8188856e-04, -8.9306786e-04, -5.7859335e-04, ...,\n",
       "         -6.8951602e-04,  5.1470642e-04,  3.4120644e-04],\n",
       "        ...,\n",
       "        [-2.5903243e-03, -1.6861026e-03, -2.0272777e-04, ...,\n",
       "          5.4517650e-04,  2.7902683e-04,  5.7454174e-04],\n",
       "        [-2.8712384e-03, -1.3745381e-03, -1.1357320e-04, ...,\n",
       "          7.2829740e-04, -4.1993047e-07,  7.3210668e-04],\n",
       "        [-3.0858498e-03, -1.0951866e-03, -4.0796698e-05, ...,\n",
       "          8.5497572e-04, -2.2675020e-04,  8.8350166e-04]],\n",
       "\n",
       "       [[-1.2915002e-04, -8.4298663e-05, -2.0246314e-04, ...,\n",
       "         -4.0677792e-04,  1.0153977e-04,  1.3882022e-04],\n",
       "        [-1.9303968e-04, -1.7001074e-04, -3.5502962e-04, ...,\n",
       "         -1.9428870e-04, -9.3110590e-05,  8.7294087e-05],\n",
       "        [-2.1583914e-04, -5.6308234e-04, -6.0073211e-04, ...,\n",
       "         -6.5122447e-05, -2.3433362e-04,  1.9430781e-04],\n",
       "        ...,\n",
       "        [ 7.3701789e-04, -1.9872454e-03, -2.1650428e-03, ...,\n",
       "          9.8429143e-04, -6.0587528e-04, -5.5699191e-05],\n",
       "        [ 4.0119214e-04, -2.0147555e-03, -2.2355081e-03, ...,\n",
       "          9.5119950e-04, -4.7400905e-04, -1.6983013e-04],\n",
       "        [-9.9404904e-05, -1.8282660e-03, -2.1437351e-03, ...,\n",
       "          1.0608062e-03, -5.2601850e-04, -1.1821620e-04]]], dtype=float32)>"
      ]
     },
     "execution_count": 32,
     "metadata": {},
     "output_type": "execute_result"
    }
   ],
   "source": [
    "# 데이터셋에서 데이터 한 배치만 불러오는 방법입니다.\n",
    "# 지금은 동작 원리에 너무 빠져들지 마세요~\n",
    "\n",
    "# 한 배치만 불러온 데이터를 모델에 넣어봅니다\n",
    "from sklearn.model_selection import train_test_split\n",
    "enc_train, enc_val, dec_train, dec_val = train_test_split(src_input,tgt_input,test_size=0.2, random_state=5)\n",
    "\n",
    "print(\"Source Train:\", enc_train.shape)\n",
    "print(\"Target Train:\", dec_train.shape)\n",
    "print(\"Source Val:\", enc_val.shape)\n",
    "print(\"Target Val:\", dec_val.shape)\n",
    "\n",
    "dataset = tf.data.Dataset.from_tensor_slices((enc_train, dec_train))\n",
    "dataset = dataset.shuffle(BUFFER_SIZE)\n",
    "dataset = dataset.batch(BATCH_SIZE, drop_remainder=True)\n",
    "# dataset\n",
    "\n",
    "dataset_val = tf.data.Dataset.from_tensor_slices((enc_val, dec_val))\n",
    "dataset_val = dataset_val.shuffle(BUFFER_SIZE)\n",
    "dataset_val = dataset_val.batch(BATCH_SIZE, drop_remainder=True)\n",
    "\n",
    "\n",
    "for src_sample, tgt_sample in dataset.take(1): break\n",
    "\n",
    "model(src_sample)"
   ]
  },
  {
   "cell_type": "code",
   "execution_count": 33,
   "id": "micro-refund",
   "metadata": {},
   "outputs": [
    {
     "name": "stdout",
     "output_type": "stream",
     "text": [
      "Model: \"text_generator_4\"\n",
      "_________________________________________________________________\n",
      "Layer (type)                 Output Shape              Param #   \n",
      "=================================================================\n",
      "embedding_4 (Embedding)      multiple                  3072256   \n",
      "_________________________________________________________________\n",
      "lstm_7 (LSTM)                multiple                  18882560  \n",
      "_________________________________________________________________\n",
      "dropout_4 (Dropout)          multiple                  0         \n",
      "_________________________________________________________________\n",
      "lstm_8 (LSTM)                multiple                  33562624  \n",
      "_________________________________________________________________\n",
      "dropout_5 (Dropout)          multiple                  0         \n",
      "_________________________________________________________________\n",
      "dense_3 (Dense)              multiple                  24590049  \n",
      "=================================================================\n",
      "Total params: 80,107,489\n",
      "Trainable params: 80,107,489\n",
      "Non-trainable params: 0\n",
      "_________________________________________________________________\n"
     ]
    }
   ],
   "source": [
    "model.summary()"
   ]
  },
  {
   "cell_type": "code",
   "execution_count": 34,
   "id": "described-annex",
   "metadata": {},
   "outputs": [
    {
     "name": "stdout",
     "output_type": "stream",
     "text": [
      "Epoch 1/10\n",
      "488/488 [==============================] - 404s 822ms/step - loss: 3.8764\n",
      "Epoch 2/10\n",
      "488/488 [==============================] - 405s 829ms/step - loss: 2.9006\n",
      "Epoch 3/10\n",
      "488/488 [==============================] - 404s 828ms/step - loss: 2.5890\n",
      "Epoch 4/10\n",
      "488/488 [==============================] - 404s 827ms/step - loss: 2.2906\n",
      "Epoch 5/10\n",
      "488/488 [==============================] - 404s 828ms/step - loss: 2.0165\n",
      "Epoch 6/10\n",
      "488/488 [==============================] - 405s 829ms/step - loss: 1.7816\n",
      "Epoch 7/10\n",
      "488/488 [==============================] - 404s 828ms/step - loss: 1.5962\n",
      "Epoch 8/10\n",
      "488/488 [==============================] - 404s 828ms/step - loss: 1.4507\n",
      "Epoch 9/10\n",
      "488/488 [==============================] - 404s 827ms/step - loss: 1.3314\n",
      "Epoch 10/10\n",
      "488/488 [==============================] - 404s 827ms/step - loss: 1.2424\n"
     ]
    },
    {
     "data": {
      "text/plain": [
       "<tensorflow.python.keras.callbacks.History at 0x7fb9541a8c10>"
      ]
     },
     "execution_count": 34,
     "metadata": {},
     "output_type": "execute_result"
    }
   ],
   "source": [
    "# optimizer와 loss등은 차차 배웁니다\n",
    "# 혹시 미리 알고 싶다면 아래 문서를 참고하세요\n",
    "# https://www.tensorflow.org/api_docs/python/tf/keras/optimizers\n",
    "# https://www.tensorflow.org/api_docs/python/tf/keras/losses\n",
    "# 양이 상당히 많은 편이니 지금 보는 것은 추천하지 않습니다\n",
    "optimizer = tf.keras.optimizers.Adam()\n",
    "loss = tf.keras.losses.SparseCategoricalCrossentropy(\n",
    "    from_logits=True,\n",
    "    reduction='none'\n",
    ")\n",
    "\n",
    "model.compile(loss=loss, optimizer=optimizer)\n",
    "model.fit(dataset, epochs=10)"
   ]
  },
  {
   "cell_type": "code",
   "execution_count": 35,
   "id": "excess-constitutional",
   "metadata": {},
   "outputs": [],
   "source": [
    "def generate_text(model, tokenizer, init_sentence=\"<start>\", max_len=20):\n",
    "    # 테스트를 위해서 입력받은 init_sentence도 텐서로 변환합니다\n",
    "    test_input = tokenizer.texts_to_sequences([init_sentence])\n",
    "    test_tensor = tf.convert_to_tensor(test_input, dtype=tf.int64)\n",
    "    end_token = tokenizer.word_index[\"<end>\"]\n",
    "\n",
    "    # 단어 하나씩 예측해 문장을 만듭니다\n",
    "    #    1. 입력받은 문장의 텐서를 입력합니다\n",
    "    #    2. 예측된 값 중 가장 높은 확률인 word index를 뽑아냅니다\n",
    "    #    3. 2에서 예측된 word index를 문장 뒤에 붙입니다\n",
    "    #    4. 모델이 <end>를 예측했거나, max_len에 도달했다면 문장 생성을 마칩니다\n",
    "    while True:\n",
    "        # 1\n",
    "        predict = model(test_tensor) \n",
    "        # 2\n",
    "        predict_word = tf.argmax(tf.nn.softmax(predict, axis=-1), axis=-1)[:, -1] \n",
    "        # 3 \n",
    "        test_tensor = tf.concat([test_tensor, tf.expand_dims(predict_word, axis=0)], axis=-1)\n",
    "        # 4\n",
    "        if predict_word.numpy()[0] == end_token: break\n",
    "        if test_tensor.shape[1] >= max_len: break\n",
    "\n",
    "    generated = \"\"\n",
    "    # tokenizer를 이용해 word index를 단어로 하나씩 변환합니다 \n",
    "    for word_index in test_tensor[0].numpy():\n",
    "        generated += tokenizer.index_word[word_index] + \" \"\n",
    "\n",
    "    return generated"
   ]
  },
  {
   "cell_type": "code",
   "execution_count": 36,
   "id": "moderate-sapphire",
   "metadata": {},
   "outputs": [
    {
     "name": "stdout",
     "output_type": "stream",
     "text": [
      "977/977 - 71s - loss: 2.1455\n"
     ]
    }
   ],
   "source": [
    "val_loss = model.evaluate(enc_val, dec_val, verbose=2)"
   ]
  },
  {
   "cell_type": "code",
   "execution_count": 37,
   "id": "velvet-wrapping",
   "metadata": {},
   "outputs": [
    {
     "data": {
      "text/plain": [
       "'<start> i love you , liberian girl , <end> '"
      ]
     },
     "execution_count": 37,
     "metadata": {},
     "output_type": "execute_result"
    }
   ],
   "source": [
    "generate_text(model, tokenizer, init_sentence=\"<start> I love\")"
   ]
  },
  {
   "cell_type": "markdown",
   "id": "precious-inclusion",
   "metadata": {},
   "source": [
    "# 고찰\n",
    "- hidden size를 1024에서 2048로 두배 올렸더니 loss가 줄어들었다.\n",
    "  - 그렇다면 단순히 LSTM층을 하나 더 올린다거나 hidden size를 높여주는 것만으로 성능이 올라간다고 볼 수 있나?\n",
    "- CV에서는 모델의 성능을 평가할 지표들이 많이있다\n",
    "  - IOU나 Accuracy,품질 평가 metric SSIM, PSNR같이 여러개가 있고 직관적으로는 사람의 눈으로 확인 할 수 있다.  \n",
    "  - 다양한 자연어 처리의 평가 기준을 알고싶다.\n",
    "  "
   ]
  },
  {
   "cell_type": "code",
   "execution_count": null,
   "id": "enhanced-lafayette",
   "metadata": {},
   "outputs": [],
   "source": []
  }
 ],
 "metadata": {
  "kernelspec": {
   "display_name": "Python 3",
   "language": "python",
   "name": "python3"
  },
  "language_info": {
   "codemirror_mode": {
    "name": "ipython",
    "version": 3
   },
   "file_extension": ".py",
   "mimetype": "text/x-python",
   "name": "python",
   "nbconvert_exporter": "python",
   "pygments_lexer": "ipython3",
   "version": "3.7.9"
  }
 },
 "nbformat": 4,
 "nbformat_minor": 5
}
